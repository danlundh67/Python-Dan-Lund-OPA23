{
 "cells": [
  {
   "cell_type": "markdown",
   "metadata": {},
   "source": [
    "# Classification of pikachu vs pichu"
   ]
  },
  {
   "cell_type": "markdown",
   "metadata": {},
   "source": [
    "## reading the datafiles, \n",
    "- pikachu.txt\n",
    "- pichu.txt\n",
    "- test.txt\n",
    "and plotting the data points in a scatterplot"
   ]
  },
  {
   "cell_type": "code",
   "execution_count": 78,
   "metadata": {},
   "outputs": [
    {
     "data": {
      "text/plain": [
       "<matplotlib.legend.Legend at 0x20c5f88f6d0>"
      ]
     },
     "execution_count": 78,
     "metadata": {},
     "output_type": "execute_result"
    },
    {
     "data": {
      "image/png": "[encoded data removed]",
      "text/plain": [
       "<Figure size 640x480 with 1 Axes>"
      ]
     },
     "metadata": {},
     "output_type": "display_data"
    }
   ],
   "source": [
    "import matplotlib.pyplot as plt\n",
    "import re\n",
    "\n",
    "# the Readdata reads a file rowwise \n",
    "# - much better approach if Bigdata is appoached \n",
    "# - the function is adopted to handle both input types of files (DRY)\n",
    "\n",
    "def ReadData(filename):\n",
    "    file1 = open(filename, 'r')\n",
    "    count = 0\n",
    "    # initialize two vectors for X and Y coordinates \n",
    "    x_values = []\n",
    "    y_values = []\n",
    "    # header in pikachu and Pichu datafiles, inspiration for regexp fetched \n",
    "    # from ChatGPT\n",
    "    head=r'\\(\\s*width\\s*\\(\\s*cm\\s*\\),\\s*height\\s*\\(\\s*cm\\s*\\)\\)'\n",
    "    # skip the header\n",
    "    line = file1.readline()\n",
    "    if re.match(head,line): # if the first line matches the regexp, it is a pikachu or pichu file\n",
    "        while True:\n",
    "            count += 1\n",
    "        \n",
    "            # Get next line from file (i.e. skips the header from being processed)\n",
    "            line = file1.readline()\n",
    "            \n",
    "            # if line is empty\n",
    "            # end of file is reached\n",
    "            if not line:\n",
    "                break\n",
    "            values = line.strip('()\\n').split(', ') # Clean data  \n",
    "            x_values.append(float(values[0]))\n",
    "            y_values.append(float(values[1]))\n",
    "            # print(\"Line{}: {}\".format(count, line.strip()))\n",
    "        file1.close()\n",
    "    else: # else if it does not match the regexp, it's the testfile\n",
    "        while True:\n",
    "            values = line.split(\"),\") # create elements of test data\n",
    "            for tpair in values:\n",
    "                myval=tpair.strip('\\(\\)').strip() \n",
    "                # for some reason this is necessary to clean some more\n",
    "                xyval=myval.strip('\\()').split(',') \n",
    "                # print(f\"{xyval}\") = [x1, y1], [x2, y2] ...\n",
    "                x_values.append(float(xyval[0]))\n",
    "                y_values.append(float(xyval[1]))\n",
    "            line=file1.readline()\n",
    "            # test for end of file\n",
    "            if not line:\n",
    "                break\n",
    "\n",
    "        file1.close()\n",
    "    # return the vectors, i.e. [[xvalues],[yvalues]]\n",
    "    return [x_values,y_values]\n",
    "\n",
    "# Read the data from the files, pichachu is vect1, pichu vect2 and test data is vect3 \n",
    "vect1=ReadData('Pikachu.txt')\n",
    "vect2=ReadData('Pichu.txt')\n",
    "vect3=ReadData('test_points.txt')\n",
    "\n",
    "# plotting a figure\n",
    "\n",
    "plt.figure()\n",
    "plt.plot(vect1[0],vect1[1],'bx', label='Pikachu')\n",
    "plt.plot(vect2[0],vect2[1], 'ro', label='Pichu')\n",
    "plt.plot(vect3[0],vect3[1], 'go', label='Test')\n",
    "plt.legend((\"Pikachu\", \"Pichu\",\"test\"))\n",
    "\n"
   ]
  },
  {
   "cell_type": "markdown",
   "metadata": {},
   "source": [
    "### Euclidian distance \n",
    "Th euclidian is calculated between the testpoints and respective category.\n",
    "The resulting vectors are then sorted."
   ]
  },
  {
   "cell_type": "code",
   "execution_count": 79,
   "metadata": {},
   "outputs": [],
   "source": [
    "# Function calculating the Euclidean distance\n",
    "\n",
    "def euclidian(x1, y1, x2, y2):\n",
    "    return ((x1-x2)**2 +(y1-y2)**2)**0.5\n",
    "\n",
    "# Calculating distance beween traget vector (points to classify) and source \n",
    "# vector (data points for the known classes)\n",
    "\n",
    "def CalcDist(targetvect, sourcevect):\n",
    "    # create some empty vectors for result and resurning the sorted result\n",
    "    resultv=[] \n",
    "    sortedresults=[]\n",
    "    for i,x in enumerate(targetvect[0]):\n",
    "        # add an element to the vector since there are several test points\n",
    "        resultv.append([])\n",
    "        sortedresults.append([])\n",
    "        # culculate the euclidian distance for test point i\n",
    "        for j,y in enumerate(sourcevect[0]):\n",
    "            resultv[i].append(euclidian(targetvect[0][i],targetvect[1][i],sourcevect[0][j],sourcevect[1][j]))\n",
    "        # sort the distances (default smallest to largest)\n",
    "        sortedresults[i]=sorted(resultv[i])\n",
    "    return sortedresults\n",
    "\n",
    "# Obtain the sorted Euclidean distances form the known classes\n",
    "\n",
    "sortedPikachu= CalcDist(vect3,vect1)\n",
    "sortedPichu= CalcDist(vect3,vect2)\n",
    "\n",
    "\n"
   ]
  },
  {
   "cell_type": "markdown",
   "metadata": {},
   "source": [
    "### Comparing the smallest distance to testpoints and predict outcome\n"
   ]
  },
  {
   "cell_type": "code",
   "execution_count": 80,
   "metadata": {},
   "outputs": [
    {
     "name": "stdout",
     "output_type": "stream",
     "text": [
      "Sample with (width, height): (25.0,35.0) classified as Pikachu\n",
      "Sample with (width, height): (15.0,14.0) classified as Pichu\n",
      "Sample with (width, height): (26.0,30.0) classified as Pichu\n",
      "Sample with (width, height): (22.0,45.0) classified as Pikachu\n"
     ]
    }
   ],
   "source": [
    "def Classify(invect):\n",
    "    for i,x in enumerate(invect[0]):\n",
    "        if sortedPikachu[i][0] < sortedPichu[i][0]:\n",
    "            print(f\"Sample with (width, height): ({invect[0][i]},{invect[1][i]}) classified as Pikachu\")\n",
    "        elif sortedPikachu[i][0] > sortedPichu[i][0]:\n",
    "            print(f\"Sample with (width, height): ({invect[0][i]},{invect[1][i]}) classified as Pichu\")\n",
    "        else:\n",
    "            print(f\"Sample with (width, height): ({invect[0][i]},{invect[1][i]}) is indeterminate\")\n",
    "\n",
    "# Classify the test data\n",
    "\n",
    "Classify(vect3)\n"
   ]
  },
  {
   "cell_type": "markdown",
   "metadata": {},
   "source": [
    "## Assignments\n",
    "\n",
    "let the user enter a point (x, y) and make a classification (Pikachu \n",
    "or Pichu)"
   ]
  },
  {
   "cell_type": "code",
   "execution_count": 82,
   "metadata": {},
   "outputs": [
    {
     "name": "stdout",
     "output_type": "stream",
     "text": [
      "Sample with (width, height): (34,34) classified as Pikachu\n"
     ]
    },
    {
     "data": {
      "text/plain": [
       "<matplotlib.legend.Legend at 0x20c5f4d3d10>"
      ]
     },
     "execution_count": 82,
     "metadata": {},
     "output_type": "execute_result"
    },
    {
     "data": {
      "image/png": "[encoded data removed]",
      "text/plain": [
       "<Figure size 640x480 with 1 Axes>"
      ]
     },
     "metadata": {},
     "output_type": "display_data"
    }
   ],
   "source": [
    "from numbers import Number\n",
    "\n",
    "\n",
    "# Error handling in user input is inspired from Stack Owerflow.\n",
    "\n",
    "# Function to read the coordinate, making sure it's a valid integer\n",
    "def Readcoordinate(coord):\n",
    "    while True:\n",
    "        try:\n",
    "            intTarget = int(input(f\"Your {coord} coordinate (must be an int >=0?\"))\n",
    "        except ValueError:\n",
    "            continue\n",
    "        else:\n",
    "            if intTarget < 1:\n",
    "                continue\n",
    "            else:\n",
    "                return (intTarget)\n",
    "            \n",
    "\n",
    "\n",
    "\n",
    "xcoord=Readcoordinate(\"X\")\n",
    "ycoord=Readcoordinate(\"Y\")\n",
    "\n",
    "# Obtain the uniput in the choosen format [[xcoords vektor][ycords vektor]]\n",
    "target=[[xcoord],[ycoord]]\n",
    "\n",
    "pikachusar= CalcDist(target,vect1) # calculate distances to Pikachu\n",
    "pichusar =CalcDist(target,vect2) # calculate distances to pichu\n",
    "\n",
    "# Compare to the first element of the distance vector (since this is sorted)\n",
    "# in order to check suggested classification\n",
    "if pikachusar[0]< pichusar[0]:\n",
    "    print(f\"Sample with (width, height): ({xcoord},{ycoord}) classified as Pikachu\")\n",
    "elif pikachusar[0] > pichusar[0]:\n",
    "    print(f\"Sample with (width, height): ({xcoord},{ycoord}) classified as Pichu\")\n",
    "else:\n",
    "    print(f\"Sample with (width, height): ({xcoord},{ycoord}) is indeterminate\")\n",
    "\n",
    "\n",
    "\n",
    "plt.figure()\n",
    "plt.plot(vect1[0],vect1[1],'bx', label='Pikachu')\n",
    "plt.plot(vect2[0],vect2[1], 'ro', label='Pichu')\n",
    "plt.plot(xcoord,ycoord, 'go', label='Test')\n",
    "plt.legend((\"Pikachu\", \"Pichu\",\"Test\"))"
   ]
  },
  {
   "cell_type": "markdown",
   "metadata": {},
   "source": [
    "## Task 2\n",
    "Instead of using the closest point, base the classification on the five closest points.\n",
    "The majority decides which class it should be based classified as.\n",
    "\n",
    "- In part I this approach is tested on the test points given in the assignment\n",
    "- In part II this approach is used on a point supplied by the user "
   ]
  },
  {
   "cell_type": "markdown",
   "metadata": {},
   "source": [
    "### Part I - Five closest on test data"
   ]
  },
  {
   "cell_type": "code",
   "execution_count": 83,
   "metadata": {},
   "outputs": [
    {
     "name": "stdout",
     "output_type": "stream",
     "text": [
      "Sample with (width, height): (25.0,35.0) classified as Pikachu favour 4 to 1\n",
      "Sample with (width, height): (15.0,14.0) classified as Pichu favour 5 to 0\n",
      "Sample with (width, height): (26.0,30.0) classified as Pichu favour 5 to 0\n",
      "Sample with (width, height): (22.0,45.0) classified as Pikachu favour 5 to 0\n"
     ]
    }
   ],
   "source": [
    "\n",
    "# since we already have the distances between all pichu/pikachu points and testpoints\n",
    "# just shorten the list to 5 points in the sorted distance list for each class (five is \n",
    "# the maximal number if all comes from one of the classes) - memory efficiency...\n",
    "\n",
    "# the typ5dist function will also add the reference to which testpoint and a \n",
    "# class representation to the list i.e. [testpoint, distance, classid]\n",
    "\n",
    "\n",
    "def typ5dist(target, source, id):\n",
    "    top5res=[]\n",
    "    for i,x in enumerate(target[0]):\n",
    "        top5res.append([])\n",
    "        makemyres=source[i][:5]\n",
    "        for z in makemyres:\n",
    "            top5res[i].append([i, z, id])\n",
    "    return top5res\n",
    "\n",
    "# Now obtained the top 5 from each of the testpoints for Pikachu and Pichu\n",
    "# sortedPikachu and sordedPichu contains a list of list, a list for the \n",
    "# given testpoint distances in a list of all the testpoints\n",
    "\n",
    "\n",
    "pikachu5top=typ5dist(vect3, sortedPikachu, 1)\n",
    "pichu5top=typ5dist(vect3, sortedPichu, 2)\n",
    "\n",
    "# functions to join the top 5 lists for the testpoint list from each class (Pikatchu and Pichu), \n",
    "# That is, if we merge/join the to category lists we can use the traditional sort  \n",
    "# on distance to count the occurence of each category in the top 5.\n",
    "\n",
    "def joinmerge (test, pikachu5sort, pichu5sort):\n",
    "    major=[]\n",
    "    for z,b in enumerate(test[0]):\n",
    "        major.append(pikachu5sort[z]+pichu5sort[z])\n",
    "    return major\n",
    "\n",
    "# sorting\n",
    "def sub_points_category(out):\n",
    "    sorted_list=[]\n",
    "    for j,x in enumerate(out):\n",
    "        tmp=out[j]\n",
    "        # using lambda sort on second element of vector\n",
    "        sorted_list.append(sorted(tmp, key=lambda x: x[1]))\n",
    "    return sorted_list\n",
    "\n",
    "# function for classification\n",
    "def judge(out_list, test): \n",
    "    # test is the target vector, to enable printouts\n",
    "    # iterate over all test items\n",
    "    for j,x in enumerate(out_list):\n",
    "        count_pichu=0\n",
    "        count_pikacchu=0\n",
    "        measure=out_list[j][:5]\n",
    "        # iterate over the distances for the test item and count frequences\n",
    "        for i,z in enumerate(measure):\n",
    "            if out_list[j][i][2]==1:\n",
    "                count_pikacchu +=1\n",
    "            else:\n",
    "                count_pichu +=1\n",
    "        # classify based on the frequences\n",
    "        if (count_pikacchu > count_pichu):\n",
    "            print(f\"Sample with (width, height): ({test[0][j]},{test[1][j]}) classified as Pikachu favour {count_pikacchu} to {count_pichu}\")\n",
    "        elif (count_pikacchu < count_pichu):\n",
    "            print(f\"Sample with (width, height): ({test[0][j]},{test[1][j]}) classified as Pichu favour {count_pichu} to {count_pikacchu}\")\n",
    "        else:\n",
    "             # this cannot happen but kept in case of further development\n",
    "             print(f\"Sample with (width, height): ({test[0][j]},{test[1][j]}) is indeterminate\") \n",
    "\n",
    "\n",
    "judge(sub_points_category(joinmerge(vect3,pikachu5top,pichu5top)), vect3)\n",
    "\n"
   ]
  },
  {
   "cell_type": "markdown",
   "metadata": {},
   "source": [
    "###  Part II User input supplied point and classification based on five closest\n",
    "- let the user inpout a point in 2D space\n",
    "- use previous approach to classify the points"
   ]
  },
  {
   "cell_type": "code",
   "execution_count": 84,
   "metadata": {},
   "outputs": [
    {
     "name": "stdout",
     "output_type": "stream",
     "text": [
      "Sample with (width, height): (23,34) classified as Pichu favour 4 to 1\n"
     ]
    },
    {
     "data": {
      "text/plain": [
       "<matplotlib.legend.Legend at 0x20c5f570b10>"
      ]
     },
     "execution_count": 84,
     "metadata": {},
     "output_type": "execute_result"
    },
    {
     "data": {
      "image/png": "[encoded data removed]",
      "text/plain": [
       "<Figure size 640x480 with 1 Axes>"
      ]
     },
     "metadata": {},
     "output_type": "display_data"
    }
   ],
   "source": [
    "x5coord=Readcoordinate(\"X\")\n",
    "y5coord=Readcoordinate(\"Y\")\n",
    "\n",
    "target=[[x5coord],[y5coord]]\n",
    "\n",
    "pikachus= CalcDist(target,vect1) # calculate distances to Pikachu\n",
    "pichus =CalcDist(target,vect2) # calculate distances to pichu\n",
    "\n",
    "# add information to list items (such that previous functions in part I can be applied)\n",
    "top5pika=typ5dist(target, pikachus, 1)\n",
    "top5pich=typ5dist(target, pichus, 2)\n",
    "\n",
    "\n",
    "judge(sub_points_category(joinmerge(target,top5pika,top5pich)),target)\n",
    "\n",
    "plt.figure()\n",
    "plt.plot(vect1[0],vect1[1],'bx', label='Pikachu')\n",
    "plt.plot(vect2[0],vect2[1], 'ro', label='Pichu')\n",
    "plt.plot(x5coord,y5coord, 'go', label='Test')\n",
    "plt.legend((\"Pikachu\", \"Pichu\",\"Your point\"))"
   ]
  },
  {
   "cell_type": "markdown",
   "metadata": {},
   "source": [
    "## Bonus task \n",
    "- Random selection of 45 Pikatchu and 45  Pichu as training set\n",
    "- using 10 testdata, 5 Picachu and 5 Pichu\n",
    "- using confusion matrix to measure performance\n"
   ]
  },
  {
   "cell_type": "code",
   "execution_count": 72,
   "metadata": {},
   "outputs": [
    {
     "data": {
      "text/plain": [
       "[<matplotlib.lines.Line2D at 0x20c5f3053d0>]"
      ]
     },
     "execution_count": 72,
     "metadata": {},
     "output_type": "execute_result"
    },
    {
     "data": {
      "image/png": "[encoded data removed]",
      "text/plain": [
       "<Figure size 640x480 with 1 Axes>"
      ]
     },
     "metadata": {},
     "output_type": "display_data"
    }
   ],
   "source": [
    "# Random selection of data, using the data we already have read in (vect1 - Pikachu, vect2 - Pichu)\n",
    "import numpy as np\n",
    "\n",
    "# Function for getting the datapoints from a vector of index\n",
    "def create_data(testvektor,datavector):\n",
    "    test=[]\n",
    "    test.append([]) # vector for x coords\n",
    "    test.append([]) # vector for y coords\n",
    "    test[0] = [datavector[0][i] for i in testvektor]\n",
    "    test[1] = [datavector[1][i] for i in testvektor]\n",
    "    return test\n",
    "# use random from numpy to create index for 45  training points\n",
    "pikachu45= np.random.choice(range(0, 50),45, replace=False).tolist()\n",
    "# create a vector for all index\n",
    "all=[x for x in range(0,50)]\n",
    "# remove those that are not training points\n",
    "testpikachu= [v for i, v in enumerate(all) if i not in sorted(pikachu45)]\n",
    "\n",
    "pichu45=np.random.choice(range(0, 50),45, replace=False).tolist()\n",
    "testpichu= [v for i, v in enumerate(all) if i not in sorted(pichu45)]\n",
    "\n",
    "\n",
    "pichu_test=create_data(testpichu,vect2)\n",
    "train_pichu=create_data(pichu45,vect2)\n",
    "\n",
    "pikachu_test=create_data(testpikachu,vect1)\n",
    "train_pikachu=create_data(pikachu45, vect1)\n",
    "\n",
    "# plot the graph of testpoints and training points\n",
    "\n",
    "plt.figure()\n",
    "plt.plot(train_pichu[0],train_pichu[1], 'ro', label='Pichu')\n",
    "plt.plot(pichu_test[0],pichu_test[1], 'gx', label='Pichu')\n",
    "plt.plot(train_pikachu[0],train_pikachu[1], 'bo', label='Pichu')\n",
    "plt.plot(pikachu_test[0],pikachu_test[1], 'yx', label='Pichu')\n",
    "\n"
   ]
  },
  {
   "cell_type": "markdown",
   "metadata": {},
   "source": [
    "### Calculating the distance vectors test vs training"
   ]
  },
  {
   "cell_type": "markdown",
   "metadata": {},
   "source": []
  },
  {
   "cell_type": "code",
   "execution_count": 87,
   "metadata": {},
   "outputs": [
    {
     "name": "stdout",
     "output_type": "stream",
     "text": [
      "Accuracy=100.0\n"
     ]
    }
   ],
   "source": [
    "# Function for classifying, similar to judge function above \n",
    "# but here printouts are removed in favor of returning counts\n",
    "# the parameter base (base of decision) is the number of closest \n",
    "# neighbourgs the classification should be made upon.\n",
    "\n",
    "def judge2(out_list, base): # test parameter is not used here, i.e. could be removed \n",
    "    # test is the target vector, to enable printouts\n",
    "    # iterate over all testitems\n",
    "    count_pichu=0\n",
    "    count_pikacchu=0\n",
    "    count_errpichu=0\n",
    "    count_errpika=0\n",
    "    for j,x in enumerate(out_list):\n",
    "        \n",
    "        measure=out_list[j][:base]\n",
    "        for i,z in enumerate(measure):\n",
    "            if out_list[j][i][2]==1:\n",
    "                count_pikacchu +=1\n",
    "            elif out_list[j][i][2]==2:\n",
    "                count_pichu +=1\n",
    "            elif out_list[j][i][2]==3:\n",
    "                count_errpichu +=1\n",
    "            else:\n",
    "                count_errpika +=1\n",
    "        \n",
    "    # return the counts for the different outcomes\n",
    "    return np.array([count_pikacchu, count_pichu, count_errpichu, count_errpika])\n",
    "\n",
    "\n",
    "\n",
    "\n",
    "# calculate the distance between test sets and training sets\n",
    "# x =[[distances (45) first test point],[distances second test point]]\n",
    "x1=CalcDist(pichu_test, train_pichu) # pichu FN distances\n",
    "x2=CalcDist(pichu_test ,train_pikachu) # pikachu FP distances\n",
    "x3=CalcDist(pikachu_test, train_pikachu) # pikachu TPs distances\n",
    "x4=CalcDist(pikachu_test, train_pichu) # pichu TN distances\n",
    "\n",
    "# Truncate the distance list to 5 points and put label on \n",
    "# test sample so we know its origin [testpoint_id, dist, testorigin]\n",
    "\n",
    "pika1true=typ5dist(pikachu_test, x3, 1)\n",
    "pichu1true=typ5dist(pichu_test, x2, 3)\n",
    "pichu5true=typ5dist(pichu_test, x1, 2)\n",
    "pikachu5false=typ5dist(pikachu_test, x4, 4)\n",
    "res1=judge2(sub_points_category(joinmerge(pikachu_test,pika1true, pikachu5false)),1)\n",
    "res2=judge2(sub_points_category(joinmerge(pichu_test,pichu1true, pichu5true)),1)\n",
    "\n",
    "# since these are numpy arrays, add the result together...\n",
    "totres=res1+res2\n",
    "\n",
    "print(f\"Accuracy={(totres[0]+totres[1])/(totres.sum())*100.00}\")\n",
    "#judge(sub_points_category(joinmerge(vect3,pikachu5top,pichu5top)), vect3)"
   ]
  },
  {
   "cell_type": "markdown",
   "metadata": {},
   "source": [
    "### Test procedure of random selection\n",
    "- ransom select 5 Pikachu and 5 Pichu for testing, remaining is used for training.\n",
    "- run the ransom selection 99 times, using the five closest neighbours for classification\n",
    "- accuracy of each round is stored in a vector, used for ploting"
   ]
  },
  {
   "cell_type": "markdown",
   "metadata": {},
   "source": []
  },
  {
   "cell_type": "code",
   "execution_count": 91,
   "metadata": {},
   "outputs": [],
   "source": [
    "totrounds=[]\n",
    "for z in range(1,100):\n",
    "    pikachu45= np.random.choice(range(0, 50),45, replace=False).tolist()\n",
    "    all=[x for x in range(0,50)]\n",
    "    testpikachu= [v for i, v in enumerate(all) if i not in sorted(pikachu45)]\n",
    "\n",
    "    pichu45=np.random.choice(range(0, 50),45, replace=False).tolist()\n",
    "    testpichu= [v for i, v in enumerate(all) if i not in sorted(pichu45)]\n",
    "\n",
    "\n",
    "    pichu_test=create_data(testpichu,vect2)\n",
    "    train_pichu=create_data(pichu45,vect2)\n",
    "\n",
    "    pikachu_test=create_data(testpikachu,vect1)\n",
    "    train_pikachu=create_data(pikachu45, vect1)\n",
    "\n",
    "    x1=CalcDist(pichu_test, train_pichu) # pichu FN distances\n",
    "    x2=CalcDist(pichu_test ,train_pikachu) # pikachu FP distances\n",
    "    x3=CalcDist(pikachu_test, train_pikachu) # pikachu TPs distances\n",
    "    x4=CalcDist(pikachu_test, train_pichu) # pichu TN distances\n",
    "\n",
    "    # Truncate the distance list to 5 points and put label on \n",
    "    # test sample so we know its origin [testpoint_id, dist, testorigin]\n",
    "\n",
    "    pika1true=typ5dist(pikachu_test, x3, 1)\n",
    "    pichu1false=typ5dist(pichu_test, x2, 3)\n",
    "    pichu1true=typ5dist(pichu_test, x1, 2)\n",
    "    pikachu5false=typ5dist(pikachu_test, x4, 4)\n",
    "    res1=judge2(sub_points_category(joinmerge(pikachu_test,pika1true, pikachu5false)),5)\n",
    "    res2=judge2(sub_points_category(joinmerge(pichu_test,pichu1true, pichu1false)),5)\n",
    "    totres=res1+res2\n",
    "    totrounds.append((totres[0]+totres[1])/(totres.sum())*100.00)\n"
   ]
  },
  {
   "cell_type": "markdown",
   "metadata": {},
   "source": [
    "Show output (accuracy) of the 99 round of random selection"
   ]
  },
  {
   "cell_type": "code",
   "execution_count": 93,
   "metadata": {},
   "outputs": [
    {
     "name": "stdout",
     "output_type": "stream",
     "text": [
      "Mean accuracy 96.9090909090909 \n"
     ]
    },
    {
     "data": {
      "text/plain": [
       "<BarContainer object of 99 artists>"
      ]
     },
     "execution_count": 93,
     "metadata": {},
     "output_type": "execute_result"
    },
    {
     "data": {
      "image/png": "[encoded data removed]",
      "text/plain": [
       "<Figure size 640x480 with 1 Axes>"
      ]
     },
     "metadata": {},
     "output_type": "display_data"
    }
   ],
   "source": [
    "print(f\"Mean accuracy {np.array(totrounds).mean()} \")\n",
    "xstep=[x for x in range(0,99)]\n",
    "totrounds\n",
    "plt.figure()\n",
    "plt.title(\"Accuracy over 99 rounds\")\n",
    "plt.bar(xstep,totrounds)\n"
   ]
  }
 ],
 "metadata": {
  "kernelspec": {
   "display_name": "venv",
   "language": "python",
   "name": "python3"
  },
  "language_info": {
   "codemirror_mode": {
    "name": "ipython",
    "version": 3
   },
   "file_extension": ".py",
   "mimetype": "text/x-python",
   "name": "python",
   "nbconvert_exporter": "python",
   "pygments_lexer": "ipython3",
   "version": "3.11.7"
  }
 },
 "nbformat": 4,
 "nbformat_minor": 2
}
