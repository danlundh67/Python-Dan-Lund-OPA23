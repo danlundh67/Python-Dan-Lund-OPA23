{
 "cells": [
  {
   "cell_type": "markdown",
   "metadata": {},
   "source": [
    "# OOP fundamentals"
   ]
  },
  {
   "cell_type": "code",
   "execution_count": 3,
   "metadata": {},
   "outputs": [
    {
     "name": "stdout",
     "output_type": "stream",
     "text": [
      "Dunder i running\n"
     ]
    },
    {
     "data": {
      "text/plain": [
       "'Gore Bard'"
      ]
     },
     "execution_count": 3,
     "metadata": {},
     "output_type": "execute_result"
    }
   ],
   "source": [
    "class Antagning:\n",
    "    # dunder init\n",
    "    def __init__(self, school, program, name, accept):\n",
    "        print(\"Dunder i running\")\n",
    "        self.school = school\n",
    "        self.program = program\n",
    "        self.name = name\n",
    "        self.accept = accept\n",
    "\n",
    "\n",
    "# Instantieted an instance from the class Antagning and assigned it to student1 variable\n",
    "student1=Antagning(\"Handelsakademin\", \"AI\", \"Gore Bard\", True)\n",
    "\n",
    "student1.name"
   ]
  },
  {
   "cell_type": "code",
   "execution_count": 4,
   "metadata": {},
   "outputs": [
    {
     "data": {
      "text/plain": [
       "'Gore Bard'"
      ]
     },
     "execution_count": 4,
     "metadata": {},
     "output_type": "execute_result"
    }
   ],
   "source": [
    "student1.name"
   ]
  },
  {
   "cell_type": "code",
   "execution_count": 5,
   "metadata": {},
   "outputs": [
    {
     "data": {
      "text/plain": [
       "'Javascript Developer'"
      ]
     },
     "execution_count": 5,
     "metadata": {},
     "output_type": "execute_result"
    }
   ],
   "source": [
    "student1.program =\"Javascript Developer\"\n",
    "student1.program"
   ]
  },
  {
   "cell_type": "code",
   "execution_count": 6,
   "metadata": {},
   "outputs": [
    {
     "name": "stdout",
     "output_type": "stream",
     "text": [
      "Dunder i running\n"
     ]
    },
    {
     "data": {
      "text/plain": [
       "<__main__.Antagning at 0x224beaa4490>"
      ]
     },
     "execution_count": 6,
     "metadata": {},
     "output_type": "execute_result"
    }
   ],
   "source": [
    "student2 = Antagning(\"Handelsakademin\", \"UX\",\"Bella\",False)\n",
    "student2"
   ]
  },
  {
   "cell_type": "code",
   "execution_count": 7,
   "metadata": {},
   "outputs": [
    {
     "name": "stdout",
     "output_type": "stream",
     "text": [
      "Dunder i running\n"
     ]
    },
    {
     "data": {
      "text/plain": [
       "<__main__.Antagning at 0x224bea7d410>"
      ]
     },
     "execution_count": 7,
     "metadata": {},
     "output_type": "execute_result"
    }
   ],
   "source": [
    "student3=Antagning(\"Handelsakaedmin\", \"AI\", 3133, 831928329)\n",
    "\n",
    "student3"
   ]
  },
  {
   "cell_type": "markdown",
   "metadata": {},
   "source": [
    "## \\_\\_repr\\_\\_\n",
    "\n",
    "- dunder \"repper\" - method for representing an instance"
   ]
  },
  {
   "cell_type": "code",
   "execution_count": 12,
   "metadata": {},
   "outputs": [
    {
     "data": {
      "text/plain": [
       "Antagning(school='Handelsakademin',program='UX', name='Bella', accept=False)"
      ]
     },
     "execution_count": 12,
     "metadata": {},
     "output_type": "execute_result"
    }
   ],
   "source": [
    "class Antagning:\n",
    "    # dunder init\n",
    "    def __init__(self, school, program, name, accept):\n",
    "        self.school = school\n",
    "        self.program = program\n",
    "        self.name = name\n",
    "        self.accept = accept\n",
    "\n",
    "    # used for other developers and yourself\n",
    "    def __repr__(self) -> str:\n",
    "        return f\"Antagning(school='{self.school}',program='{self.program}', name='{self.name}', accept={self.accept})\"\n",
    "    \n",
    "Antagning(\"Handelsakademin\", \"UX\",\"Bella\",False)\n",
    "    "
   ]
  },
  {
   "cell_type": "markdown",
   "metadata": {},
   "source": [
    "## Encapsulation\n",
    "## _<method or variable> pilla inte på denna!!"
   ]
  },
  {
   "cell_type": "code",
   "execution_count": 15,
   "metadata": {},
   "outputs": [
    {
     "data": {
      "text/plain": [
       "Patient('Bella', 'conjunctivites')"
      ]
     },
     "execution_count": 15,
     "metadata": {},
     "output_type": "execute_result"
    }
   ],
   "source": [
    "class Patient:\n",
    "    def __init__(self, name, diagnosis) -> None:\n",
    "        self._name = name\n",
    "        self.__diagnosis = diagnosis\n",
    "\n",
    "    def __repr__(self):\n",
    "        return f\"Patient('{self._name}', '{self.__diagnosis}')\"\n",
    "    \n",
    "patient1 = Patient(\"Bella\", \"conjunctivites\")\n",
    "patient1"
   ]
  },
  {
   "cell_type": "code",
   "execution_count": 16,
   "metadata": {},
   "outputs": [
    {
     "data": {
      "text/plain": [
       "'Bella'"
      ]
     },
     "execution_count": 16,
     "metadata": {},
     "output_type": "execute_result"
    }
   ],
   "source": [
    "patient1._name"
   ]
  },
  {
   "cell_type": "markdown",
   "metadata": {},
   "source": [
    "## two underscores gives name mangling"
   ]
  },
  {
   "cell_type": "code",
   "execution_count": 17,
   "metadata": {},
   "outputs": [
    {
     "ename": "AttributeError",
     "evalue": "'Patient' object has no attribute '__diagnosis'",
     "output_type": "error",
     "traceback": [
      "\u001b[1;31m---------------------------------------------------------------------------\u001b[0m",
      "\u001b[1;31mAttributeError\u001b[0m                            Traceback (most recent call last)",
      "Cell \u001b[1;32mIn[17], line 1\u001b[0m\n\u001b[1;32m----> 1\u001b[0m \u001b[43mpatient1\u001b[49m\u001b[38;5;241;43m.\u001b[39;49m\u001b[43m__diagnosis\u001b[49m\n",
      "\u001b[1;31mAttributeError\u001b[0m: 'Patient' object has no attribute '__diagnosis'"
     ]
    }
   ],
   "source": [
    "patient1.__diagnosis"
   ]
  },
  {
   "cell_type": "code",
   "execution_count": 18,
   "metadata": {},
   "outputs": [
    {
     "data": {
      "text/plain": [
       "{'_name': 'Bella', '_Patient__diagnosis': 'conjunctivites'}"
      ]
     },
     "execution_count": 18,
     "metadata": {},
     "output_type": "execute_result"
    }
   ],
   "source": [
    "patient1.__dict__"
   ]
  },
  {
   "cell_type": "code",
   "execution_count": 19,
   "metadata": {},
   "outputs": [
    {
     "data": {
      "text/plain": [
       "'conjunctivites'"
      ]
     },
     "execution_count": 19,
     "metadata": {},
     "output_type": "execute_result"
    }
   ],
   "source": [
    "patient1._Patient__diagnosis\n"
   ]
  },
  {
   "cell_type": "markdown",
   "metadata": {},
   "source": [
    "## Larger example"
   ]
  },
  {
   "cell_type": "code",
   "execution_count": 21,
   "metadata": {},
   "outputs": [
    {
     "data": {
      "text/plain": [
       "'Coins in stash: 70 riksdaler, 40 skilling'"
      ]
     },
     "execution_count": 21,
     "metadata": {},
     "output_type": "execute_result"
    }
   ],
   "source": [
    "from numbers import Number\n",
    "\n",
    "class OldCoinStash:\n",
    "    def __init__(self, owner: str) -> None:\n",
    "        self.owner = owner\n",
    "\n",
    "        # private\n",
    "        self._riksdaler =0\n",
    "        self._skilling =0\n",
    "\n",
    "    def deposit(self, riksdaler, skilling):\n",
    "        if not isinstance(riksdaler,Number) or not isinstance(skilling, Number):\n",
    "            raise TypeError(f\"riksdaler and skilling must be a number\")\n",
    "        if riksdaler <=0 or skilling <= 0:\n",
    "            raise ValueError(\n",
    "                f\"Not Valid: You tried to deposit {riksdaler} riksdaler and {skilling} skilling\"\n",
    "            )\n",
    "        self._riksdaler+=riksdaler\n",
    "        self._skilling+=skilling\n",
    "\n",
    "    def withdraw(self, riksdaler,skilling):\n",
    "        # do tye and value checking\n",
    "        self._riksdaler -= riksdaler\n",
    "        self._skilling -= skilling\n",
    "\n",
    "    def check_balance(self):\n",
    "        return f\"Coins in stash: {self._riksdaler} riksdaler, {self._skilling} skilling\"\n",
    "\n",
    "\n",
    "stash1 = OldCoinStash(\"Ragnar Lothbroke\")\n",
    "stash1.deposit(50,30)\n",
    "stash1.deposit(50,30)\n",
    "stash1.check_balance()\n",
    "\n",
    "stash1.withdraw(30,20)\n",
    "\n",
    "stash1.check_balance()\n",
    "\n"
   ]
  },
  {
   "cell_type": "markdown",
   "metadata": {},
   "source": [
    "## Property\n",
    "difference between languages\n",
    "- Python has dot-syntax for both getter and setter\n",
    "- e.g \n",
    "- student1.name -> getter\n",
    "- student1.name = \"Hanna\" -> setter"
   ]
  },
  {
   "cell_type": "code",
   "execution_count": 1,
   "metadata": {},
   "outputs": [
    {
     "name": "stdout",
     "output_type": "stream",
     "text": [
      "property 'name' of 'Student' object has no setter\n",
      "Bella\n"
     ]
    },
    {
     "data": {
      "text/plain": [
       "55"
      ]
     },
     "execution_count": 1,
     "metadata": {},
     "output_type": "execute_result"
    }
   ],
   "source": [
    "from numbers import Number\n",
    "\n",
    "class Student:\n",
    "    \"\"\"Student class for representing students with name, age and active\"\"\"\n",
    "    # type hint\n",
    "    def __init__(self, name: str, age: int, active: bool) -> None:\n",
    "        self._name = name\n",
    "        self.age = age\n",
    "        self._active = active\n",
    "    # decorator -> changes function to give extra functionality\n",
    "    @property\n",
    "    def name(self): # getter\n",
    "        \"\"\"Read only property, can't set name\"\"\"\n",
    "        return self._name\n",
    "\n",
    "    @property\n",
    "    def age(self):\n",
    "        return self._age\n",
    "    \n",
    "    @age.setter\n",
    "    def age(self, value: float):\n",
    "        \"\"\"Setter for age with error handling\"\"\"\n",
    "        if not isinstance(value, Number):\n",
    "            raise TypeError(f\"Age must be a number not {type(value)}\")\n",
    "        \n",
    "        if not (0<=value<=125):\n",
    "            raise ValueError(\"Age must be between 0 and 126, not {value}\")\n",
    "        \n",
    "        self._age=value\n",
    "        \n",
    "\n",
    "student1=Student(\"Bella\", 2, True)\n",
    "try:\n",
    "    student1.name=\"Gore Bard\"\n",
    "except AttributeError as err:\n",
    "    print(err)\n",
    "\n",
    "print(student1.name)\n",
    "try:\n",
    "    student1.age=120\n",
    "except AttributeError as err:\n",
    "    print(err)\n",
    "\n",
    "student1.age=55\n",
    "student1.age"
   ]
  },
  {
   "cell_type": "code",
   "execution_count": null,
   "metadata": {},
   "outputs": [],
   "source": []
  }
 ],
 "metadata": {
  "kernelspec": {
   "display_name": "venv",
   "language": "python",
   "name": "python3"
  },
  "language_info": {
   "codemirror_mode": {
    "name": "ipython",
    "version": 3
   },
   "file_extension": ".py",
   "mimetype": "text/x-python",
   "name": "python",
   "nbconvert_exporter": "python",
   "pygments_lexer": "ipython3",
   "version": "3.11.7"
  }
 },
 "nbformat": 4,
 "nbformat_minor": 2
}
