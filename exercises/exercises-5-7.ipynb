{
 "cells": [
  {
   "cell_type": "markdown",
   "metadata": {},
   "source": [
    "# 05 Strings\n",
    "## 0. Counting letters"
   ]
  },
  {
   "cell_type": "code",
   "execution_count": 2,
   "metadata": {},
   "outputs": [
    {
     "name": "stdout",
     "output_type": "stream",
     "text": [
      " Number of signs 8, Uppercase 1, lowercase 7\n"
     ]
    }
   ],
   "source": [
    "string=input(\"ANge en textsträng (stora och små bokstäver)\")\n",
    "\n",
    "upper=0;\n",
    "lower=0;\n",
    "\n",
    "for i in string:\n",
    "    if i.isupper():\n",
    "        upper +=1\n",
    "    else:\n",
    "        lower +=1\n",
    "\n",
    "print(f\" Number of signs {len(string)}, Uppercase {upper}, lowercase {lower}\")"
   ]
  },
  {
   "cell_type": "markdown",
   "metadata": {},
   "source": [
    "## 1. Counting words"
   ]
  },
  {
   "cell_type": "code",
   "execution_count": 2,
   "metadata": {},
   "outputs": [
    {
     "name": "stdout",
     "output_type": "stream",
     "text": [
      "Number of words 17\n"
     ]
    }
   ],
   "source": [
    "string =\"A picture says more than a thousand words, a matematical formula says more than a thousand pictures.\"\n",
    "\n",
    "words=string.split()\n",
    "\n",
    "print(f\"Number of words {len(words)}\")"
   ]
  },
  {
   "cell_type": "markdown",
   "metadata": {},
   "source": [
    "## 2. Palindrome\n",
    "## user input"
   ]
  },
  {
   "cell_type": "code",
   "execution_count": 8,
   "metadata": {},
   "outputs": [
    {
     "name": "stdout",
     "output_type": "stream",
     "text": [
      "nitalarbralatin\n",
      " nitalarbralatin is a palindrome\n"
     ]
    }
   ],
   "source": [
    "string=input(\"State a text string for test of palindrome \")\n",
    "\n",
    "s1=string.lower() # small caps only\n",
    "s2=s1.replace(\" \", \"\")\n",
    "\n",
    "if (s2 == s2[::-1]):\n",
    "    print(f\" {s2} is a palindrome\")"
   ]
  },
  {
   "cell_type": "markdown",
   "metadata": {},
   "source": [
    "## 3. Vowels (**)\n",
    "## Count the number of vowels in this sentence: \"Pure mathematics is, in its way, the poetry of logical ideas\""
   ]
  },
  {
   "cell_type": "code",
   "execution_count": null,
   "metadata": {},
   "outputs": [],
   "source": [
    "string=\"Pure mathematics is, in its way, the poetry of logical ideas\""
   ]
  }
 ],
 "metadata": {
  "kernelspec": {
   "display_name": "venv",
   "language": "python",
   "name": "python3"
  },
  "language_info": {
   "codemirror_mode": {
    "name": "ipython",
    "version": 3
   },
   "file_extension": ".py",
   "mimetype": "text/x-python",
   "name": "python",
   "nbconvert_exporter": "python",
   "pygments_lexer": "ipython3",
   "version": "3.11.7"
  }
 },
 "nbformat": 4,
 "nbformat_minor": 2
}
