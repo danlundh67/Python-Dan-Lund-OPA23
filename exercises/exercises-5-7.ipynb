{
 "cells": [
  {
   "cell_type": "markdown",
   "metadata": {},
   "source": [
    "# 05 Strings\n",
    "## 0. Counting letters"
   ]
  },
  {
   "cell_type": "code",
   "execution_count": 2,
   "metadata": {},
   "outputs": [
    {
     "name": "stdout",
     "output_type": "stream",
     "text": [
      " Number of signs 8, Uppercase 1, lowercase 7\n"
     ]
    }
   ],
   "source": [
    "string=input(\"ANge en textsträng (stora och små bokstäver)\")\n",
    "\n",
    "upper=0;\n",
    "lower=0;\n",
    "\n",
    "for i in string:\n",
    "    if i.isupper():\n",
    "        upper +=1\n",
    "    else:\n",
    "        lower +=1\n",
    "\n",
    "print(f\" Number of signs {len(string)}, Uppercase {upper}, lowercase {lower}\")"
   ]
  },
  {
   "cell_type": "markdown",
   "metadata": {},
   "source": [
    "## 1. Counting words"
   ]
  },
  {
   "cell_type": "code",
   "execution_count": 2,
   "metadata": {},
   "outputs": [
    {
     "name": "stdout",
     "output_type": "stream",
     "text": [
      "Number of words 17\n"
     ]
    }
   ],
   "source": [
    "string =\"A picture says more than a thousand words, a matematical formula says more than a thousand pictures.\"\n",
    "\n",
    "words=string.split()\n",
    "\n",
    "print(f\"Number of words {len(words)}\")"
   ]
  },
  {
   "cell_type": "markdown",
   "metadata": {},
   "source": [
    "## 2. Palindrome\n",
    "## user input"
   ]
  },
  {
   "cell_type": "code",
   "execution_count": 8,
   "metadata": {},
   "outputs": [
    {
     "name": "stdout",
     "output_type": "stream",
     "text": [
      "nitalarbralatin\n",
      " nitalarbralatin is a palindrome\n"
     ]
    }
   ],
   "source": [
    "string=input(\"State a text string for test of palindrome \")\n",
    "\n",
    "s1=string.lower() # small caps only\n",
    "s2=s1.replace(\" \", \"\")\n",
    "\n",
    "if (s2 == s2[::-1]):\n",
    "    print(f\" {s2} is a palindrome\")"
   ]
  },
  {
   "cell_type": "markdown",
   "metadata": {},
   "source": [
    "## 3. Vowels (**)\n",
    "## Count the number of vowels in this sentence: \"Pure mathematics is, in its way, the poetry of logical ideas\""
   ]
  },
  {
   "cell_type": "code",
   "execution_count": 9,
   "metadata": {},
   "outputs": [
    {
     "data": {
      "text/plain": [
       "28"
      ]
     },
     "execution_count": 9,
     "metadata": {},
     "output_type": "execute_result"
    }
   ],
   "source": [
    "string=\"Pure mathematics is, in its way, the poetry of logical ideas\"\n",
    "vowels=\"aioueiy\"\n",
    "countvowels=0\n",
    "for a in vowels:\n",
    "   countvowels += string.lower().count(a)\n",
    "\n",
    "countvowels"
   ]
  },
  {
   "cell_type": "markdown",
   "metadata": {},
   "source": [
    "## 4. Encryption\n",
    "## Let the user input a word and:\n",
    "## a)   encrypt the message by replacing each letter with the next letter. If the letter is in the end of the alphabet, use the first letter instead.\n",
    "## e.g. in Swedish: \"höst\"  is  \"iatu\""
   ]
  },
  {
   "cell_type": "code",
   "execution_count": 12,
   "metadata": {},
   "outputs": [
    {
     "ename": "IndexError",
     "evalue": "string index out of range",
     "output_type": "error",
     "traceback": [
      "\u001b[1;31m---------------------------------------------------------------------------\u001b[0m",
      "\u001b[1;31mIndexError\u001b[0m                                Traceback (most recent call last)",
      "Cell \u001b[1;32mIn[12], line 11\u001b[0m\n\u001b[0;32m      9\u001b[0m         \u001b[38;5;28;01mif\u001b[39;00m (pos\u001b[38;5;241m==\u001b[39m\u001b[38;5;28mlen\u001b[39m(alphabet)):\n\u001b[0;32m     10\u001b[0m                 pos\u001b[38;5;241m=\u001b[39m\u001b[38;5;241m0\u001b[39m;\n\u001b[1;32m---> 11\u001b[0m         encrypted \u001b[38;5;241m+\u001b[39m\u001b[38;5;241m=\u001b[39m\u001b[43malphabet\u001b[49m\u001b[43m[\u001b[49m\u001b[43mpos\u001b[49m\u001b[38;5;241;43m+\u001b[39;49m\u001b[38;5;241;43m1\u001b[39;49m\u001b[43m]\u001b[49m\n\u001b[0;32m     12\u001b[0m encrypted\n",
      "\u001b[1;31mIndexError\u001b[0m: string index out of range"
     ]
    }
   ],
   "source": [
    "alphabet=\"abcdefghijklmnopqrstuvwxyzåäö\"\n",
    "\n",
    "mystring =input(\"Enter a string to be encrypted: \")\n",
    "\n",
    "encrypted=\"\"\n",
    "\n",
    "for letter in mystring:\n",
    "        pos = alphabet.index(letter)\n",
    "        if (pos==len(alphabet)-1):\n",
    "                pos=0;\n",
    "        encrypted +=alphabet[pos+1]\n",
    "encrypted"
   ]
  },
  {
   "cell_type": "code",
   "execution_count": null,
   "metadata": {},
   "outputs": [],
   "source": []
  }
 ],
 "metadata": {
  "kernelspec": {
   "display_name": "venv",
   "language": "python",
   "name": "python3"
  },
  "language_info": {
   "codemirror_mode": {
    "name": "ipython",
    "version": 3
   },
   "file_extension": ".py",
   "mimetype": "text/x-python",
   "name": "python",
   "nbconvert_exporter": "python",
   "pygments_lexer": "ipython3",
   "version": "3.11.7"
  }
 },
 "nbformat": 4,
 "nbformat_minor": 2
}
