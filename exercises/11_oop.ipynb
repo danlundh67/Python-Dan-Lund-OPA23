{
 "cells": [
  {
   "cell_type": "markdown",
   "metadata": {},
   "source": [
    "## 0. Unit conversion (*)\n",
    "Create a class for converting US units to the metric system. It should have the following bound methods:\n",
    "\n",
    "__init__ (self, value)\n",
    "\n",
    "inch_to_cm(self)\n",
    "\n",
    "foot_to_meters(self)\n",
    "\n",
    "pound_to_kg(self)\n",
    "\n",
    "__repr__(self)\n",
    "Make sure that value is the correct type and format, raise suitable exceptions in case it isn't. Make value into property with getter and setter. Test your class manually by instantiating an object from it and test different methods. (*)\n",
    "\n"
   ]
  },
  {
   "cell_type": "code",
   "execution_count": 23,
   "metadata": {},
   "outputs": [
    {
     "name": "stdout",
     "output_type": "stream",
     "text": [
      "56 inches is 143.36 cm\n",
      "56 foot is 17.0688 meter\n",
      "56 pound is 25.40117272 kg\n"
     ]
    }
   ],
   "source": [
    "from numbers import Number\n",
    "\n",
    "class Convertmeasure:\n",
    "\n",
    "    def __init__(self, myval:int) -> None:\n",
    "        self.myval=myval\n",
    "\n",
    "    @property\n",
    "    def myval(self)-> int:\n",
    "        return self._myval\n",
    "    \n",
    "    @myval.setter\n",
    "    def myval(self, value: int) -> None:\n",
    "        if not isinstance(value, Number):\n",
    "            raise TypeError(f\"Value must be a number\")\n",
    "         \n",
    "        # validation code goes here\n",
    "\n",
    "        self._myval = value\n",
    "\n",
    "    # see lecture note for prperty name validationchecking Name \n",
    "        \n",
    "    def inch_cm(self) -> None:\n",
    "        print(f\"{self.myval} inches is {self.myval*2.56} cm\")\n",
    "\n",
    "    def fot_meter(self)->None:\n",
    "        print(f\"{self.myval} foot is {self.myval*0.3048} meter\")\n",
    "\n",
    "    def pound_kg(self) -> None:\n",
    "        print(f\"{self.myval} pound is {self.myval*0.45359237} kg\")\n",
    "        \n",
    "\n",
    "p1=Convertmeasure(56)\n",
    "p1.inch_cm()\n",
    "p1.fot_meter()\n",
    "p1.pound_kg()\n",
    "\n"
   ]
  },
  {
   "cell_type": "markdown",
   "metadata": {},
   "source": [
    "## 1. Person (*)\n",
    "Create a class named Person, with parameterized constructor with the following parameters:\n",
    "\n",
    "name\n",
    "age\n",
    "email\n",
    "Turn name, age, email into properties with following validations in their setters:\n",
    "\n",
    "name - must be string\n",
    "age - must be number between 0 and 125\n",
    "email - must include an @ sign\n",
    "It should also have __repr__ method to represent the Person class in a neat way.\n",
    "\n",
    "Also create a method say_hello() that prints\n",
    "\n",
    "Hi, my name is ..., I am ... years old, my email address is ... "
   ]
  },
  {
   "cell_type": "code",
   "execution_count": 27,
   "metadata": {},
   "outputs": [
    {
     "data": {
      "text/plain": [
       "Person Kalle 33 kalle.svensson@hotmail.com"
      ]
     },
     "execution_count": 27,
     "metadata": {},
     "output_type": "execute_result"
    }
   ],
   "source": [
    "import re\n",
    "\n",
    "class Person:\n",
    "    def __init__(self, name: str, age:int, email: str) -> None:\n",
    "        self.name=name\n",
    "        self.age=age\n",
    "        self.email=email\n",
    "        \n",
    "    @property\n",
    "    def name(self)-> str:\n",
    "        return self._name\n",
    "    \n",
    "    @property\n",
    "    def age(self)-> int:\n",
    "        return self._age\n",
    "    \n",
    "    @property\n",
    "    def email(self)-> str:\n",
    "        return self._email\n",
    "    \n",
    "    @age.setter\n",
    "    def age(self, value: int) -> None:\n",
    "        if not isinstance(value, Number):\n",
    "            raise TypeError(f\"Value must be a number\")\n",
    "        \n",
    "        if value < 0 or value > 125:\n",
    "            raise ValueError(\n",
    "                f\"Not Valid: age must be between 0 and 125\"\n",
    "            )\n",
    "        self._age = value\n",
    "\n",
    "    @name.setter\n",
    "    def name(self, value: int) -> None:\n",
    "        if not isinstance(value, str):\n",
    "            raise TypeError(f\"Value must be a string\")\n",
    "        self._name=value\n",
    "    \n",
    "    @email.setter\n",
    "    def email(self, value: str) -> None:\n",
    "        if not isinstance(value, str):\n",
    "            raise TypeError(f\"Value must be a string\")\n",
    "        regex = r'\\b[A-Za-z0-9._%+-]+@[A-Za-z0-9.-]+\\.[A-Z|a-z]{2,7}\\b'\n",
    "        if not (re.fullmatch(regex, value)):\n",
    "            raise ValueError(\n",
    "                f\"Not Valid: age must be between 0 and 125\"\n",
    "            )\n",
    "        self._email=value\n",
    "\n",
    "    def __repr__(self) -> str:\n",
    "        return f\"Person {self.name} {self.age} {self.email}\"\n",
    "    \n",
    "    def hello(self) -> str:\n",
    "        return f\"Hi, my name is {self.name}, I am {self.age} years old, my email address is {self.email}\"\n",
    "    \n",
    "\n",
    "p1=Person(\"Kalle\",33,\"kalle.svensson@hotmail.com\")\n",
    "p1\n"
   ]
  },
  {
   "cell_type": "code",
   "execution_count": 29,
   "metadata": {},
   "outputs": [
    {
     "data": {
      "text/plain": [
       "'Hi, my name is Kalle, I am 33 years old, my email address is kalle.svensson@hotmail.com'"
      ]
     },
     "execution_count": 29,
     "metadata": {},
     "output_type": "execute_result"
    }
   ],
   "source": [
    "p1.hello()"
   ]
  },
  {
   "cell_type": "markdown",
   "metadata": {},
   "source": [
    "## 2. Student and Teacher (*)\n",
    "Create two classes named Student and Teacher that inherits from Person.\n",
    "\n",
    "The Student class shall have:\n",
    "\n",
    "study() method that prints out\n",
    "study...study...study...more study\n",
    "override say_hello() with the following message:\n",
    "Yo, I am a student, my name is ..., I am ... years old, my email address is ...  \n",
    "The Teacher class shall have:\n",
    "\n",
    "teach() method that prints out\n",
    "teach...teach...teach...more teaching\n",
    "Instantiate a Teacher object and a Student object. Call\n",
    "\n",
    "teach() and say_hello() methods from your Teacher object.\n",
    "study() and say_hello() methods from your Student object"
   ]
  },
  {
   "cell_type": "code",
   "execution_count": 34,
   "metadata": {},
   "outputs": [
    {
     "name": "stdout",
     "output_type": "stream",
     "text": [
      "Yo, I am a student, my name is Olle, I am 25 years old, my email address is olle.banan@gmail.com  and study...study...study...more study\n",
      "Hi, my name is Knut, I am 22 years old, my email address is knut.knutsson@gmail.com and teach...teach...teach...more teaching\n"
     ]
    }
   ],
   "source": [
    "class Student(Person):\n",
    "    def study(self) -> str:\n",
    "        return f\"study...study...study...more study\"\n",
    "    def hello(self) -> str:\n",
    "        return f\"Yo, I am a student, my name is {self.name}, I am {self.age} years old, my email address is {self.email}\"\n",
    "    \n",
    "class Teatcher(Person):\n",
    "    def teach(self) -> str:\n",
    "        return f\"teach...teach...teach...more teaching\"\n",
    "\n",
    "p2=Student(\"Olle\", 25,\"olle.banan@gmail.com\")\n",
    "p3=Teatcher(\"Knut\",22, \"knut.knutsson@gmail.com\")\n",
    "\n",
    "print(f\"{p2.hello()}  and {p2.study()}\")\n",
    "print(f\"{p3.hello()} and {p3.teach()}\")\n"
   ]
  },
  {
   "cell_type": "markdown",
   "metadata": {},
   "source": [
    "## 3. Plotting library (**)\n",
    "Create a class called PlotAnnotator which takes in a figure and axes instances and exposes a method called arrow, which serves the purpose of creating an annotation to a plot. Note that you might need other methods and/or properties, e.g. something that can return the figure instance.\n",
    "\n",
    "Also add some settings so that you can reuse it for other plots. For simplicity you could have the settings directly in PlotAnnotator class, or if you'd like you could make use of inheritance or composition to separate concerns and make the classes have single responsibilities.\n",
    "\n",
    "For example a manual test could look like this:\n",
    "\n",
    "np.random.seed(42)\n",
    "x = np.linspace(0, 10, 100) \n",
    "y = 2 * x + 5 + np.random.normal(0, 2, size=len(x)) \n",
    "\n",
    "annotate = AnnotatePlot(fig, ax)\n",
    "annotate.arrow(\"Big dip here\", (8, 10), (7.5, 14.8))"
   ]
  },
  {
   "cell_type": "code",
   "execution_count": 35,
   "metadata": {},
   "outputs": [
    {
     "ename": "NameError",
     "evalue": "name 'fig' is not defined",
     "output_type": "error",
     "traceback": [
      "\u001b[1;31m---------------------------------------------------------------------------\u001b[0m",
      "\u001b[1;31mNameError\u001b[0m                                 Traceback (most recent call last)",
      "Cell \u001b[1;32mIn[35], line 13\u001b[0m\n\u001b[0;32m     10\u001b[0m x \u001b[38;5;241m=\u001b[39m np\u001b[38;5;241m.\u001b[39mlinspace(\u001b[38;5;241m0\u001b[39m, \u001b[38;5;241m10\u001b[39m, \u001b[38;5;241m100\u001b[39m) \n\u001b[0;32m     11\u001b[0m y \u001b[38;5;241m=\u001b[39m \u001b[38;5;241m2\u001b[39m \u001b[38;5;241m*\u001b[39m x \u001b[38;5;241m+\u001b[39m \u001b[38;5;241m5\u001b[39m \u001b[38;5;241m+\u001b[39m np\u001b[38;5;241m.\u001b[39mrandom\u001b[38;5;241m.\u001b[39mnormal(\u001b[38;5;241m0\u001b[39m, \u001b[38;5;241m2\u001b[39m, size\u001b[38;5;241m=\u001b[39m\u001b[38;5;28mlen\u001b[39m(x)) \n\u001b[1;32m---> 13\u001b[0m annotate \u001b[38;5;241m=\u001b[39m AnnotatePlot(\u001b[43mfig\u001b[49m, ax)\n\u001b[0;32m     14\u001b[0m annotate\u001b[38;5;241m.\u001b[39marrow(\u001b[38;5;124m\"\u001b[39m\u001b[38;5;124mBig dip here\u001b[39m\u001b[38;5;124m\"\u001b[39m, (\u001b[38;5;241m8\u001b[39m, \u001b[38;5;241m10\u001b[39m), (\u001b[38;5;241m7.5\u001b[39m, \u001b[38;5;241m14.8\u001b[39m))\n",
      "\u001b[1;31mNameError\u001b[0m: name 'fig' is not defined"
     ]
    }
   ],
   "source": [
    "import numpy as np\n",
    "import matplotlib.pyplot as plt\n",
    "\n",
    "from matplotlib.figure import Figure\n",
    "\n",
    "\n",
    "class AnnotatePlot(Figure):\n",
    "    def __init__(self, text: str, list1:[], list2: []) -> None:\n",
    "        self.name=text\n",
    "        self.list1=list1\n",
    "        self.email=list2\n",
    "\n",
    "np.random.seed(42)\n",
    "x = np.linspace(0, 10, 100) \n",
    "y = 2 * x + 5 + np.random.normal(0, 2, size=len(x)) \n",
    "\n",
    "annotate = AnnotatePlot(fig, ax)\n",
    "annotate.arrow(\"Big dip here\", (8, 10), (7.5, 14.8))"
   ]
  },
  {
   "cell_type": "code",
   "execution_count": null,
   "metadata": {},
   "outputs": [],
   "source": []
  }
 ],
 "metadata": {
  "kernelspec": {
   "display_name": "venv",
   "language": "python",
   "name": "python3"
  },
  "language_info": {
   "codemirror_mode": {
    "name": "ipython",
    "version": 3
   },
   "file_extension": ".py",
   "mimetype": "text/x-python",
   "name": "python",
   "nbconvert_exporter": "python",
   "pygments_lexer": "ipython3",
   "version": "3.11.7"
  }
 },
 "nbformat": 4,
 "nbformat_minor": 2
}
