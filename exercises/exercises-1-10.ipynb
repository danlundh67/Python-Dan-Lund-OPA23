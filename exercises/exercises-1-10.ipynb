{
 "cells": [
  {
   "cell_type": "code",
   "execution_count": null,
   "metadata": {},
   "outputs": [],
   "source": [
    "# 0.00_count_with_python\n",
    "# 1. pythagoras theorem\n",
    "# a)"
   ]
  },
  {
   "cell_type": "code",
   "execution_count": null,
   "metadata": {},
   "outputs": [],
   "source": [
    "a=3\n",
    "b=4\n",
    "c=(a**2+b**2)**0.5\n",
    "\n",
    "c"
   ]
  },
  {
   "cell_type": "markdown",
   "metadata": {},
   "source": [
    "## b)"
   ]
  },
  {
   "cell_type": "code",
   "execution_count": null,
   "metadata": {},
   "outputs": [],
   "source": [
    "c=7\n",
    "a=5\n",
    "b=round((c**2-a**2)**0.5, 1)\n",
    "\n",
    "b"
   ]
  },
  {
   "cell_type": "markdown",
   "metadata": {},
   "source": [
    "## 2. Classification accuracy"
   ]
  },
  {
   "cell_type": "code",
   "execution_count": null,
   "metadata": {},
   "outputs": [],
   "source": [
    "totals=365\n",
    "corr= 300\n",
    "ac= corr/totals\n",
    "\n",
    "ac"
   ]
  },
  {
   "cell_type": "markdown",
   "metadata": {},
   "source": [
    "## 3. Classification accuracy"
   ]
  },
  {
   "cell_type": "code",
   "execution_count": null,
   "metadata": {},
   "outputs": [],
   "source": [
    "tp=2\n",
    "fp=2\n",
    "fn=11\n",
    "tn=985\n",
    "\n",
    "ac=(tp+tn)/(tp+fp+fn+tn)\n",
    "\n",
    "ac"
   ]
  },
  {
   "cell_type": "markdown",
   "metadata": {},
   "source": [
    "## 4. Line (*)"
   ]
  },
  {
   "cell_type": "code",
   "execution_count": null,
   "metadata": {},
   "outputs": [],
   "source": [
    "x1=4\n",
    "y1=4\n",
    "\n",
    "x2=0\n",
    "y2=1\n",
    "\n",
    "k=(y1-y2)/(x1-x2)\n",
    "\n",
    "k"
   ]
  },
  {
   "cell_type": "markdown",
   "metadata": {},
   "source": []
  },
  {
   "cell_type": "markdown",
   "metadata": {},
   "source": [
    "## 5. Euclidean distance"
   ]
  },
  {
   "cell_type": "code",
   "execution_count": null,
   "metadata": {},
   "outputs": [],
   "source": [
    "p1=[3,5]\n",
    "p2=[-2,4]\n",
    "\n",
    "ecl=((p1[0]-p2[0])**2+(p1[1]-p2[1])**2)**0.5\n",
    "\n",
    "ecl"
   ]
  },
  {
   "cell_type": "markdown",
   "metadata": {},
   "source": [
    "## Euclidean distance in 3D"
   ]
  },
  {
   "cell_type": "code",
   "execution_count": null,
   "metadata": {},
   "outputs": [],
   "source": [
    "p1=[2, 1, 4]\n",
    "p2=[3, 1, 0]\n",
    "\n",
    "eucl=((p1[0]-p2[0])**2+(p1[1]-p2[1])**2+(p1[2]-p2[2])**2)**0.5\n",
    "\n",
    "eucl"
   ]
  },
  {
   "cell_type": "markdown",
   "metadata": {},
   "source": [
    "# 0.01 if statements\n",
    "## 0. Check sign"
   ]
  },
  {
   "cell_type": "code",
   "execution_count": null,
   "metadata": {},
   "outputs": [],
   "source": [
    "ans=float(input(\"State a number\"))\n",
    "\n",
    "if (ans>=0.00000):\n",
    "    print(\"Positive\")\n",
    "else:\n",
    "    print(\"Negative\")"
   ]
  },
  {
   "cell_type": "markdown",
   "metadata": {},
   "source": [
    "## 1. Smallest"
   ]
  },
  {
   "cell_type": "code",
   "execution_count": null,
   "metadata": {},
   "outputs": [],
   "source": [
    "ans1=float(input(\"State first number\"))\n",
    "ans2=float(input(\"State second number\"))\n",
    "\n",
    "if (ans1<ans2):\n",
    "    print(f\"First number is smallest {ans1}\")\n",
    "else:\n",
    "    print(f\"Second number is smallest {ans2}\")"
   ]
  },
  {
   "cell_type": "markdown",
   "metadata": {},
   "source": [
    "## 2. Right angle"
   ]
  },
  {
   "cell_type": "code",
   "execution_count": null,
   "metadata": {},
   "outputs": [],
   "source": [
    "ans=[]\n",
    "\n",
    "ans.append(float(input(\"State first angle\")))\n",
    "ans.append(float(input(\"State second angle\")))\n",
    "ans.append(float(input(\"State second angle\")))\n",
    "\n",
    "if (sum(ans)!=180):\n",
    "    print(f\"Something wring with the angles, sum is not 180, its {sum(ans)}\")\n",
    "else:\n",
    "        if 90 in ans:\n",
    "            print(\"Jepp, this has right angle\")\n",
    "\n",
    "print(f\"{ans}\")"
   ]
  },
  {
   "cell_type": "markdown",
   "metadata": {},
   "source": []
  },
  {
   "cell_type": "markdown",
   "metadata": {},
   "source": [
    "## 3. Medicine"
   ]
  },
  {
   "cell_type": "code",
   "execution_count": null,
   "metadata": {},
   "outputs": [],
   "source": [
    "weight=int(input(\"State weight:\"))\n",
    "age=int(input(\"State age:\"))\n",
    "\n",
    "if weight>15 and weight<26:\n",
    "    print(\"Take 1/2 pill\")\n",
    "elif weight>25 and weight<40:\n",
    "    print(\"Take 1/2 -1 pill\")\n",
    "elif weight>40:\n",
    "    print(\"Take 1-2 pills\")\n",
    "\n"
   ]
  },
  {
   "cell_type": "markdown",
   "metadata": {},
   "source": [
    "## 4. Divisible"
   ]
  },
  {
   "cell_type": "code",
   "execution_count": null,
   "metadata": {},
   "outputs": [],
   "source": [
    "number=int(input(\"State a number:\"))\n",
    "\n",
    "if (number % 2 ==0) and (number % 5 == 0):\n",
    "    print(\"The number is divisible by 2 and 5\")\n",
    "elif (number % 2 == 0):\n",
    "    print(\"The number is even\")\n",
    "elif (number % 5 ==0):\n",
    "    print(\"The number is divisible by 5\")\n",
    "else: \n",
    "    print(\"The number is odd\")\n",
    "\n",
    "\n",
    "\n"
   ]
  },
  {
   "cell_type": "markdown",
   "metadata": {},
   "source": [
    "# while loop\n",
    "## a)"
   ]
  },
  {
   "cell_type": "code",
   "execution_count": null,
   "metadata": {},
   "outputs": [],
   "source": [
    "sum=0\n",
    "i=1\n",
    "while (i<=100):\n",
    "    sum +=i\n",
    "    i =i+1\n",
    "\n",
    "sum"
   ]
  },
  {
   "cell_type": "markdown",
   "metadata": {},
   "source": [
    "## b)"
   ]
  },
  {
   "cell_type": "code",
   "execution_count": null,
   "metadata": {},
   "outputs": [],
   "source": [
    "sum=0\n",
    "i=1\n",
    "while (i<=100):\n",
    "    sum +=i\n",
    "    i =i+2\n",
    "\n",
    "sum\n"
   ]
  },
  {
   "cell_type": "markdown",
   "metadata": {},
   "source": [
    "## Guess number\n",
    "## a)"
   ]
  },
  {
   "cell_type": "code",
   "execution_count": 1,
   "metadata": {},
   "outputs": [
    {
     "name": "stdout",
     "output_type": "stream",
     "text": [
      "Correct answer, you manage to guess in 5 trials\n"
     ]
    }
   ],
   "source": [
    "import random\n",
    "\n",
    "nr=1\n",
    "guess=int(input(\"State number between 1-100\"))\n",
    "number=random.randint(1,100)\n",
    "\n",
    "while (guess != number):\n",
    "    if guess<number:\n",
    "        guess=int(input(\"State higher number between 1-100\"))\n",
    "        nr += 1\n",
    "    elif guess > number:\n",
    "        guess=int(input(\"State lower number between 1-100\"))\n",
    "        nr += 1\n",
    "\n",
    "print(f\"Correct answer, you manage to guess in {nr} trials\")\n",
    "\n"
   ]
  },
  {
   "cell_type": "markdown",
   "metadata": {},
   "source": [
    "## b)"
   ]
  },
  {
   "cell_type": "code",
   "execution_count": 3,
   "metadata": {},
   "outputs": [
    {
     "name": "stdout",
     "output_type": "stream",
     "text": [
      "Correct answer, computer manage to guess in 6 trials\n"
     ]
    }
   ],
   "source": [
    "import random\n",
    "\n",
    "nr=1\n",
    "number=int(input(\"State number between 1-100\"))\n",
    "guess=random.randint(1,100)\n",
    "ulim=100\n",
    "lolim=1\n",
    "while (guess != number):\n",
    "    if guess<number:\n",
    "        lolim=guess+1\n",
    "    elif guess > number:\n",
    "        ulim=guess-1\n",
    "    guess=random.randint(lolim, ulim)\n",
    "    nr += 1\n",
    "\n",
    "print(f\"Correct answer, computer manage to guess in {nr} trials\")"
   ]
  },
  {
   "cell_type": "markdown",
   "metadata": {},
   "source": [
    "3. Multiplication game"
   ]
  },
  {
   "cell_type": "code",
   "execution_count": 3,
   "metadata": {},
   "outputs": [
    {
     "name": "stdout",
     "output_type": "stream",
     "text": [
      "Good work!\n",
      "Good work!\n",
      "Good work!\n",
      "Average accuracy of 1.0\n"
     ]
    }
   ],
   "source": [
    "import random\n",
    "\n",
    "nr=0\n",
    "correct=0\n",
    "\n",
    "loop=1\n",
    "\n",
    "while loop==1:\n",
    "    x = random.randint(1,10)\n",
    "    y= random.randint(1,10)\n",
    "    ans= int(input(f\"State the product of {x} times {y}\"))\n",
    "    nr +=1\n",
    "    if ans != x*y:\n",
    "        print(f\"The correct answer is {x*y} \")\n",
    "    else:\n",
    "        correct += 1\n",
    "        print(\"Good work!\")\n",
    "    play=input(\"Play again [y|n]\")\n",
    "    if play ==\"y\":\n",
    "        loop=1\n",
    "    else:\n",
    "        loop=2\n",
    "\n",
    "print(f\"Average accuracy of {round(correct/nr,1)}\")\n"
   ]
  },
  {
   "cell_type": "markdown",
   "metadata": {},
   "source": [
    "## 4. Check convergence\n",
    "## a)"
   ]
  },
  {
   "cell_type": "code",
   "execution_count": 5,
   "metadata": {},
   "outputs": [
    {
     "name": "stdout",
     "output_type": "stream",
     "text": [
      " After 20 iterations, converges to 1.9999980926513672\n"
     ]
    }
   ],
   "source": [
    "sum=0\n",
    "i=0\n",
    "n=int(input(\"State n value:\"))\n",
    "while (i<n):\n",
    "    sum=sum+1/2**i\n",
    "    i +=1\n",
    "print(f\" After {i} iterations, converges to {sum}\")\n",
    "\n"
   ]
  },
  {
   "cell_type": "markdown",
   "metadata": {},
   "source": [
    "## b)"
   ]
  },
  {
   "cell_type": "code",
   "execution_count": 8,
   "metadata": {},
   "outputs": [
    {
     "name": "stdout",
     "output_type": "stream",
     "text": [
      " After 20 iterations, converges to 0.77290595166696\n"
     ]
    }
   ],
   "source": [
    "sum=0\n",
    "i=0\n",
    "n=int(input(\"State n value:\"))\n",
    "while (i<n):\n",
    "    sum=sum+((-1)**i)/(2*i+1)\n",
    "    i +=1\n",
    "print(f\" After {i} iterations, converges to {sum}\")"
   ]
  },
  {
   "cell_type": "markdown",
   "metadata": {},
   "source": [
    "# 03 for statement\n",
    "## 0. Count numbers"
   ]
  },
  {
   "cell_type": "code",
   "execution_count": 10,
   "metadata": {},
   "outputs": [
    {
     "name": "stdout",
     "output_type": "stream",
     "text": [
      " -10\n",
      " -9\n",
      " -8\n",
      " -7\n",
      " -6\n",
      " -5\n",
      " -4\n",
      " -3\n",
      " -2\n",
      " -1\n",
      " 0\n",
      " 1\n",
      " 2\n",
      " 3\n",
      " 4\n",
      " 5\n",
      " 6\n",
      " 7\n",
      " 8\n",
      " 9\n",
      " 10\n"
     ]
    }
   ],
   "source": [
    "for x in range(-10,11):\n",
    "    print(f\" {x}\")"
   ]
  },
  {
   "cell_type": "markdown",
   "metadata": {},
   "source": [
    "## b)"
   ]
  },
  {
   "cell_type": "code",
   "execution_count": 11,
   "metadata": {},
   "outputs": [
    {
     "name": "stdout",
     "output_type": "stream",
     "text": [
      " -10\n",
      " -8\n",
      " -6\n",
      " -4\n",
      " -2\n",
      " 0\n",
      " 2\n",
      " 4\n",
      " 6\n",
      " 8\n",
      " 10\n"
     ]
    }
   ],
   "source": [
    "for x in range(-10,11,2):\n",
    "    print(f\" {x}\")"
   ]
  },
  {
   "cell_type": "markdown",
   "metadata": {},
   "source": [
    "## 1. Arithmetic sum \n",
    "## a)"
   ]
  },
  {
   "cell_type": "code",
   "execution_count": 13,
   "metadata": {},
   "outputs": [
    {
     "name": "stdout",
     "output_type": "stream",
     "text": [
      " 5050\n"
     ]
    }
   ],
   "source": [
    "sum=0;\n",
    "\n",
    "for x in range(0,101):\n",
    "    sum += x\n",
    "print(f\" {sum}\")"
   ]
  },
  {
   "cell_type": "markdown",
   "metadata": {},
   "source": [
    "## b)"
   ]
  },
  {
   "cell_type": "code",
   "execution_count": 14,
   "metadata": {},
   "outputs": [
    {
     "name": "stdout",
     "output_type": "stream",
     "text": [
      " 2550\n"
     ]
    }
   ],
   "source": [
    "sum=0\n",
    "\n",
    "for x in range(0,101, 2):\n",
    "    sum += x\n",
    "print(f\" {sum}\")"
   ]
  },
  {
   "cell_type": "code",
   "execution_count": null,
   "metadata": {},
   "outputs": [],
   "source": []
  }
 ],
 "metadata": {
  "kernelspec": {
   "display_name": "venv",
   "language": "python",
   "name": "python3"
  },
  "language_info": {
   "codemirror_mode": {
    "name": "ipython",
    "version": 3
   },
   "file_extension": ".py",
   "mimetype": "text/x-python",
   "name": "python",
   "nbconvert_exporter": "python",
   "pygments_lexer": "ipython3",
   "version": "3.11.7"
  }
 },
 "nbformat": 4,
 "nbformat_minor": 2
}
