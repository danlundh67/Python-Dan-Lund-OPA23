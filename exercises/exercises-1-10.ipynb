{
 "cells": [
  {
   "cell_type": "code",
   "execution_count": null,
   "metadata": {},
   "outputs": [],
   "source": [
    "# 0.00_count_with_python\n",
    "# 1. pythagoras theorem\n",
    "# a)"
   ]
  },
  {
   "cell_type": "code",
   "execution_count": null,
   "metadata": {},
   "outputs": [],
   "source": [
    "a=3\n",
    "b=4\n",
    "c=(a**2+b**2)**0.5\n",
    "\n",
    "c"
   ]
  },
  {
   "cell_type": "markdown",
   "metadata": {},
   "source": [
    "## b)"
   ]
  },
  {
   "cell_type": "code",
   "execution_count": null,
   "metadata": {},
   "outputs": [],
   "source": [
    "c=7\n",
    "a=5\n",
    "b=round((c**2-a**2)**0.5, 1)\n",
    "\n",
    "b"
   ]
  },
  {
   "cell_type": "markdown",
   "metadata": {},
   "source": [
    "## 2. Classification accuracy"
   ]
  },
  {
   "cell_type": "code",
   "execution_count": null,
   "metadata": {},
   "outputs": [],
   "source": [
    "totals=365\n",
    "corr= 300\n",
    "ac= corr/totals\n",
    "\n",
    "ac"
   ]
  },
  {
   "cell_type": "markdown",
   "metadata": {},
   "source": [
    "## 3. Classification accuracy"
   ]
  },
  {
   "cell_type": "code",
   "execution_count": null,
   "metadata": {},
   "outputs": [],
   "source": [
    "tp=2\n",
    "fp=2\n",
    "fn=11\n",
    "tn=985\n",
    "\n",
    "ac=(tp+tn)/(tp+fp+fn+tn)\n",
    "\n",
    "ac"
   ]
  },
  {
   "cell_type": "markdown",
   "metadata": {},
   "source": [
    "## 4. Line (*)"
   ]
  },
  {
   "cell_type": "code",
   "execution_count": null,
   "metadata": {},
   "outputs": [],
   "source": [
    "x1=4\n",
    "y1=4\n",
    "\n",
    "x2=0\n",
    "y2=1\n",
    "\n",
    "k=(y1-y2)/(x1-x2)\n",
    "\n",
    "k"
   ]
  },
  {
   "cell_type": "markdown",
   "metadata": {},
   "source": []
  },
  {
   "cell_type": "markdown",
   "metadata": {},
   "source": [
    "## 5. Euclidean distance"
   ]
  },
  {
   "cell_type": "code",
   "execution_count": null,
   "metadata": {},
   "outputs": [],
   "source": [
    "p1=[3,5]\n",
    "p2=[-2,4]\n",
    "\n",
    "ecl=((p1[0]-p2[0])**2+(p1[1]-p2[1])**2)**0.5\n",
    "\n",
    "ecl"
   ]
  },
  {
   "cell_type": "markdown",
   "metadata": {},
   "source": [
    "## Euclidean distance in 3D"
   ]
  },
  {
   "cell_type": "code",
   "execution_count": null,
   "metadata": {},
   "outputs": [],
   "source": [
    "p1=[2, 1, 4]\n",
    "p2=[3, 1, 0]\n",
    "\n",
    "eucl=((p1[0]-p2[0])**2+(p1[1]-p2[1])**2+(p1[2]-p2[2])**2)**0.5\n",
    "\n",
    "eucl"
   ]
  },
  {
   "cell_type": "markdown",
   "metadata": {},
   "source": [
    "# 0.01 if statements\n",
    "## 0. Check sign"
   ]
  },
  {
   "cell_type": "code",
   "execution_count": null,
   "metadata": {},
   "outputs": [],
   "source": [
    "ans=float(input(\"State a number\"))\n",
    "\n",
    "if (ans>=0.00000):\n",
    "    print(\"Positive\")\n",
    "else:\n",
    "    print(\"Negative\")"
   ]
  },
  {
   "cell_type": "markdown",
   "metadata": {},
   "source": [
    "## 1. Smallest"
   ]
  },
  {
   "cell_type": "code",
   "execution_count": null,
   "metadata": {},
   "outputs": [],
   "source": [
    "ans1=float(input(\"State first number\"))\n",
    "ans2=float(input(\"State second number\"))\n",
    "\n",
    "if (ans1<ans2):\n",
    "    print(f\"First number is smallest {ans1}\")\n",
    "else:\n",
    "    print(f\"Second number is smallest {ans2}\")"
   ]
  },
  {
   "cell_type": "markdown",
   "metadata": {},
   "source": [
    "## 2. Right angle"
   ]
  },
  {
   "cell_type": "code",
   "execution_count": null,
   "metadata": {},
   "outputs": [],
   "source": [
    "ans=[]\n",
    "\n",
    "ans.append(float(input(\"State first angle\")))\n",
    "ans.append(float(input(\"State second angle\")))\n",
    "ans.append(float(input(\"State second angle\")))\n",
    "\n",
    "if (sum(ans)!=180):\n",
    "    print(f\"Something wring with the angles, sum is not 180, its {sum(ans)}\")\n",
    "else:\n",
    "        if 90 in ans:\n",
    "            print(\"Jepp, this has right angle\")\n",
    "\n",
    "print(f\"{ans}\")"
   ]
  },
  {
   "cell_type": "markdown",
   "metadata": {},
   "source": []
  },
  {
   "cell_type": "markdown",
   "metadata": {},
   "source": [
    "## 3. Medicine"
   ]
  },
  {
   "cell_type": "code",
   "execution_count": null,
   "metadata": {},
   "outputs": [],
   "source": [
    "weight=int(input(\"State weight:\"))\n",
    "age=int(input(\"State age:\"))\n",
    "\n",
    "if weight>15 and weight<26:\n",
    "    print(\"Take 1/2 pill\")\n",
    "elif weight>25 and weight<40:\n",
    "    print(\"Take 1/2 -1 pill\")\n",
    "elif weight>40:\n",
    "    print(\"Take 1-2 pills\")\n",
    "\n"
   ]
  },
  {
   "cell_type": "markdown",
   "metadata": {},
   "source": [
    "## 4. Divisible"
   ]
  },
  {
   "cell_type": "code",
   "execution_count": null,
   "metadata": {},
   "outputs": [],
   "source": [
    "number=int(input(\"State a number:\"))\n",
    "\n",
    "if (number % 2 ==0) and (number % 5 == 0):\n",
    "    print(\"The number is divisible by 2 and 5\")\n",
    "elif (number % 2 == 0):\n",
    "    print(\"The number is even\")\n",
    "elif (number % 5 ==0):\n",
    "    print(\"The number is divisible by 5\")\n",
    "else: \n",
    "    print(\"The number is odd\")\n",
    "\n",
    "\n",
    "\n"
   ]
  },
  {
   "cell_type": "markdown",
   "metadata": {},
   "source": [
    "# while loop\n",
    "## a)"
   ]
  },
  {
   "cell_type": "code",
   "execution_count": null,
   "metadata": {},
   "outputs": [],
   "source": [
    "sum=0\n",
    "i=1\n",
    "while (i<=100):\n",
    "    sum +=i\n",
    "    i =i+1\n",
    "\n",
    "sum"
   ]
  },
  {
   "cell_type": "markdown",
   "metadata": {},
   "source": [
    "## b)"
   ]
  },
  {
   "cell_type": "code",
   "execution_count": null,
   "metadata": {},
   "outputs": [],
   "source": [
    "sum=0\n",
    "i=1\n",
    "while (i<=100):\n",
    "    sum +=i\n",
    "    i =i+2\n",
    "\n",
    "sum\n"
   ]
  },
  {
   "cell_type": "markdown",
   "metadata": {},
   "source": [
    "## Guess number\n",
    "## a)"
   ]
  },
  {
   "cell_type": "code",
   "execution_count": 1,
   "metadata": {},
   "outputs": [
    {
     "name": "stdout",
     "output_type": "stream",
     "text": [
      "Correct answer, you manage to guess in 5 trials\n"
     ]
    }
   ],
   "source": [
    "import random\n",
    "\n",
    "nr=1\n",
    "guess=int(input(\"State number between 1-100\"))\n",
    "number=random.randint(1,100)\n",
    "\n",
    "while (guess != number):\n",
    "    if guess<number:\n",
    "        guess=int(input(\"State higher number between 1-100\"))\n",
    "        nr += 1\n",
    "    elif guess > number:\n",
    "        guess=int(input(\"State lower number between 1-100\"))\n",
    "        nr += 1\n",
    "\n",
    "print(f\"Correct answer, you manage to guess in {nr} trials\")\n",
    "\n"
   ]
  },
  {
   "cell_type": "markdown",
   "metadata": {},
   "source": [
    "## b)"
   ]
  },
  {
   "cell_type": "code",
   "execution_count": 3,
   "metadata": {},
   "outputs": [
    {
     "name": "stdout",
     "output_type": "stream",
     "text": [
      "Correct answer, computer manage to guess in 6 trials\n"
     ]
    }
   ],
   "source": [
    "import random\n",
    "\n",
    "nr=1\n",
    "number=int(input(\"State number between 1-100\"))\n",
    "guess=random.randint(1,100)\n",
    "ulim=100\n",
    "lolim=1\n",
    "while (guess != number):\n",
    "    if guess<number:\n",
    "        lolim=guess+1\n",
    "    elif guess > number:\n",
    "        ulim=guess-1\n",
    "    guess=random.randint(lolim, ulim)\n",
    "    nr += 1\n",
    "\n",
    "print(f\"Correct answer, computer manage to guess in {nr} trials\")"
   ]
  },
  {
   "cell_type": "markdown",
   "metadata": {},
   "source": [
    "3. Multiplication game"
   ]
  },
  {
   "cell_type": "code",
   "execution_count": 3,
   "metadata": {},
   "outputs": [
    {
     "name": "stdout",
     "output_type": "stream",
     "text": [
      "Good work!\n",
      "Good work!\n",
      "Good work!\n",
      "Average accuracy of 1.0\n"
     ]
    }
   ],
   "source": [
    "import random\n",
    "\n",
    "nr=0\n",
    "correct=0\n",
    "\n",
    "loop=1\n",
    "\n",
    "while loop==1:\n",
    "    x = random.randint(1,10)\n",
    "    y= random.randint(1,10)\n",
    "    ans= int(input(f\"State the product of {x} times {y}\"))\n",
    "    nr +=1\n",
    "    if ans != x*y:\n",
    "        print(f\"The correct answer is {x*y} \")\n",
    "    else:\n",
    "        correct += 1\n",
    "        print(\"Good work!\")\n",
    "    play=input(\"Play again [y|n]\")\n",
    "    if play ==\"y\":\n",
    "        loop=1\n",
    "    else:\n",
    "        loop=2\n",
    "\n",
    "print(f\"Average accuracy of {round(correct/nr,1)}\")\n"
   ]
  },
  {
   "cell_type": "markdown",
   "metadata": {},
   "source": [
    "## 4. Check convergence\n",
    "## a)"
   ]
  },
  {
   "cell_type": "code",
   "execution_count": 5,
   "metadata": {},
   "outputs": [
    {
     "name": "stdout",
     "output_type": "stream",
     "text": [
      " After 20 iterations, converges to 1.9999980926513672\n"
     ]
    }
   ],
   "source": [
    "sum=0\n",
    "i=0\n",
    "n=int(input(\"State n value:\"))\n",
    "while (i<n):\n",
    "    sum=sum+1/2**i\n",
    "    i +=1\n",
    "print(f\" After {i} iterations, converges to {sum}\")\n",
    "\n"
   ]
  },
  {
   "cell_type": "markdown",
   "metadata": {},
   "source": [
    "## b)"
   ]
  },
  {
   "cell_type": "code",
   "execution_count": 8,
   "metadata": {},
   "outputs": [
    {
     "name": "stdout",
     "output_type": "stream",
     "text": [
      " After 20 iterations, converges to 0.77290595166696\n"
     ]
    }
   ],
   "source": [
    "sum=0\n",
    "i=0\n",
    "n=int(input(\"State n value:\"))\n",
    "while (i<n):\n",
    "    sum=sum+((-1)**i)/(2*i+1)\n",
    "    i +=1\n",
    "print(f\" After {i} iterations, converges to {sum}\")"
   ]
  },
  {
   "cell_type": "markdown",
   "metadata": {},
   "source": [
    "# 03 for statement\n",
    "## 0. Count numbers"
   ]
  },
  {
   "cell_type": "code",
   "execution_count": 10,
   "metadata": {},
   "outputs": [
    {
     "name": "stdout",
     "output_type": "stream",
     "text": [
      " -10\n",
      " -9\n",
      " -8\n",
      " -7\n",
      " -6\n",
      " -5\n",
      " -4\n",
      " -3\n",
      " -2\n",
      " -1\n",
      " 0\n",
      " 1\n",
      " 2\n",
      " 3\n",
      " 4\n",
      " 5\n",
      " 6\n",
      " 7\n",
      " 8\n",
      " 9\n",
      " 10\n"
     ]
    }
   ],
   "source": [
    "for x in range(-10,11):\n",
    "    print(f\" {x}\")"
   ]
  },
  {
   "cell_type": "markdown",
   "metadata": {},
   "source": [
    "## b)"
   ]
  },
  {
   "cell_type": "code",
   "execution_count": 11,
   "metadata": {},
   "outputs": [
    {
     "name": "stdout",
     "output_type": "stream",
     "text": [
      " -10\n",
      " -8\n",
      " -6\n",
      " -4\n",
      " -2\n",
      " 0\n",
      " 2\n",
      " 4\n",
      " 6\n",
      " 8\n",
      " 10\n"
     ]
    }
   ],
   "source": [
    "for x in range(-10,11,2):\n",
    "    print(f\" {x}\")"
   ]
  },
  {
   "cell_type": "markdown",
   "metadata": {},
   "source": [
    "## 1. Arithmetic sum \n",
    "## a)"
   ]
  },
  {
   "cell_type": "code",
   "execution_count": 13,
   "metadata": {},
   "outputs": [
    {
     "name": "stdout",
     "output_type": "stream",
     "text": [
      " 5050\n"
     ]
    }
   ],
   "source": [
    "sum=0;\n",
    "\n",
    "for x in range(0,101):\n",
    "    sum += x\n",
    "print(f\" {sum}\")"
   ]
  },
  {
   "cell_type": "markdown",
   "metadata": {},
   "source": [
    "## b)"
   ]
  },
  {
   "cell_type": "code",
   "execution_count": 14,
   "metadata": {},
   "outputs": [
    {
     "name": "stdout",
     "output_type": "stream",
     "text": [
      " 2550\n"
     ]
    }
   ],
   "source": [
    "sum=0\n",
    "\n",
    "for x in range(0,101, 2):\n",
    "    sum += x\n",
    "print(f\" {sum}\")"
   ]
  },
  {
   "cell_type": "markdown",
   "metadata": {},
   "source": [
    "## 2. Multiplication table\n",
    "##  let the user input the table, start and end of the table. "
   ]
  },
  {
   "cell_type": "code",
   "execution_count": 15,
   "metadata": {},
   "outputs": [
    {
     "name": "stdout",
     "output_type": "stream",
     "text": [
      "3 * 3 = 9\n",
      "4 * 3 = 12\n",
      "5 * 3 = 15\n",
      "6 * 3 = 18\n",
      "7 * 3 = 21\n",
      "8 * 3 = 24\n",
      "9 * 3 = 27\n"
     ]
    }
   ],
   "source": [
    "number=int(input(\"Which mulitplication table do you want?\"))\n",
    "start=int(input(\"State start of table :\"))\n",
    "stopp=int(input(\"State stop of table :\"))\n",
    "\n",
    "for x in range(start,stopp+1):\n",
    "    print(f\"{x} * {number} = {number*x}\")\n"
   ]
  },
  {
   "cell_type": "markdown",
   "metadata": {},
   "source": [
    "## 3. Faculty"
   ]
  },
  {
   "cell_type": "code",
   "execution_count": 17,
   "metadata": {},
   "outputs": [
    {
     "name": "stdout",
     "output_type": "stream",
     "text": [
      " 5! = 120\n"
     ]
    }
   ],
   "source": [
    "start=1\n",
    "stopp=int(input(\"State faculty?\"))\n",
    "y=1\n",
    "\n",
    "for x in range(start,stopp+1):\n",
    "    y=y*x\n",
    "\n",
    "print(f\" {stopp}! = {y}\")"
   ]
  },
  {
   "cell_type": "markdown",
   "metadata": {},
   "source": [
    "## 5. Rice on chessboard "
   ]
  },
  {
   "cell_type": "code",
   "execution_count": 31,
   "metadata": {},
   "outputs": [
    {
     "name": "stdout",
     "output_type": "stream",
     "text": [
      "for 64 steps the sum is 18446744073709551615\n"
     ]
    }
   ],
   "source": [
    "xto=64\n",
    "y=1\n",
    "summa=1\n",
    "for x in range(2,xto+1):\n",
    "    y=y+y\n",
    "    summa=summa+y\n",
    "\n",
    "print(f\"for {xto} steps the sum is {summa}\")"
   ]
  },
  {
   "cell_type": "markdown",
   "metadata": {},
   "source": [
    "# 04 List"
   ]
  },
  {
   "cell_type": "markdown",
   "metadata": {},
   "source": [
    "## 0. Dice rolls (*)\n",
    "Simulate 10 dice rolls and append the rolls to a list or use list comprehension."
   ]
  },
  {
   "cell_type": "code",
   "execution_count": 49,
   "metadata": {},
   "outputs": [
    {
     "name": "stdout",
     "output_type": "stream",
     "text": [
      "[6, 6, 5, 5, 5, 3, 3, 3, 3, 1] 6 1\n"
     ]
    }
   ],
   "source": [
    "import random\n",
    "\n",
    "mylist=[random.randint(1,6) for x in range(1,11)]\n",
    "\n",
    "mylist.sort() #ascending\n",
    "mylist\n",
    "mylist.sort(reverse=True)\n",
    "\n",
    "print(f\"{mylist} {mylist[0]} {mylist[9]}\")"
   ]
  },
  {
   "cell_type": "markdown",
   "metadata": {},
   "source": [
    "## 1. Food menu"
   ]
  },
  {
   "cell_type": "code",
   "execution_count": 59,
   "metadata": {},
   "outputs": [
    {
     "name": "stdout",
     "output_type": "stream",
     "text": [
      "monday - vegetarisk lasagne\n",
      "tuesday - pannkakor\n",
      "wednesday - fisk\n",
      "thursday - grönsakssoppa\n",
      "friday - spaghetti\n"
     ]
    }
   ],
   "source": [
    "import random\n",
    "menu=[\"vegetarisk lasagne\", \"spaghetti\", \"fisk\", \"grönsakssoppa\", \"pannkakor\"]\n",
    "days=[\"monday\",\"tuesday\",\"wednesday\",\"thursday\",\"friday\"]\n",
    "\n",
    "random.shuffle(menu)\n",
    "\n",
    "for i,x in enumerate(days):\n",
    "    print(f\"{x} - {menu[i]}\")"
   ]
  },
  {
   "cell_type": "markdown",
   "metadata": {},
   "source": [
    "## 2. Squares (*)\n",
    "##  a)   Use list comprehension to create a list of squares from -10 to 10 (*)\n",
    "##  b)   Plot this list using matplotlib. "
   ]
  },
  {
   "cell_type": "code",
   "execution_count": 67,
   "metadata": {},
   "outputs": [
    {
     "name": "stdout",
     "output_type": "stream",
     "text": [
      "21\n",
      "21\n"
     ]
    },
    {
     "data": {
      "text/plain": [
       "[<matplotlib.lines.Line2D at 0x24d74924450>]"
      ]
     },
     "execution_count": 67,
     "metadata": {},
     "output_type": "execute_result"
    },
    {
     "data": {
      "image/png": "[encoded data removed]",
      "text/plain": [
       "<Figure size 640x480 with 1 Axes>"
      ]
     },
     "metadata": {},
     "output_type": "display_data"
    }
   ],
   "source": [
    "import matplotlib.pyplot as plt\n",
    "\n",
    "y=[x for x in range(-10,11)]\n",
    "x=[x for x in range(0,21)]\n",
    "\n",
    "print(f\"{len(x)}\\n{len(y)}\")\n",
    "\n",
    "plt.plot(x,y)"
   ]
  },
  {
   "cell_type": "markdown",
   "metadata": {},
   "source": [
    "## 3. Chessboard (**)\n",
    "##  a)   Create this list using list comprehension: (*)\n",
    "##\n",
    "## ['A1', 'B1', 'C1', 'D1', 'E1', 'F1', 'G1', 'H1']\n",
    "##  b)   Create a 2D list to hold the coordinates in a chessboard. (**)"
   ]
  },
  {
   "cell_type": "code",
   "execution_count": 90,
   "metadata": {},
   "outputs": [
    {
     "name": "stdout",
     "output_type": "stream",
     "text": [
      "[['A1', 'B1', 'C1', 'D1', 'E1', 'F1', 'G1', 'H1'], ['A2', 'B2', 'C2', 'D2', 'E2', 'F2', 'G2', 'H2'], ['A3', 'B3', 'C3', 'D3', 'E3', 'F3', 'G3', 'H3'], ['A4', 'B4', 'C4', 'D4', 'E4', 'F4', 'G4', 'H4'], ['A5', 'B5', 'C5', 'D5', 'E5', 'F5', 'G5', 'H5'], ['A6', 'B6', 'C6', 'D6', 'E6', 'F6', 'G6', 'H6'], ['A7', 'B7', 'C7', 'D7', 'E7', 'F7', 'G7', 'H7'], ['A8', 'B8', 'C8', 'D8', 'E8', 'F8', 'G8', 'H8']]\n"
     ]
    }
   ],
   "source": [
    "rows=range(1,9)\n",
    "matrix=[]\n",
    "for row in rows:\n",
    "    cols=[str(chr(x))+str(row) for x in range(65,73)]\n",
    "    matrix.append(cols)\n",
    "\n",
    "print(f\"{matrix}\")"
   ]
  },
  {
   "cell_type": "markdown",
   "metadata": {},
   "source": [
    "## 4. Dice rolls convergence\n",
    "## Simulate:\n",
    "##\n",
    "## a)   100 dice rolls and count the number of outcome six. (*)\n",
    "##\n",
    "##  b)   10, 100, 1000, 10000, 100000, 1000000 dice rolls. Count the number of outcome six in each simulation and store it in a list. Compute the probability of outcome six in each simulation. (**)\n",
    "##\n",
    "##  c)   Use matplotlib to plot this list. (*)"
   ]
  }
 ],
 "metadata": {
  "kernelspec": {
   "display_name": "venv",
   "language": "python",
   "name": "python3"
  },
  "language_info": {
   "codemirror_mode": {
    "name": "ipython",
    "version": 3
   },
   "file_extension": ".py",
   "mimetype": "text/x-python",
   "name": "python",
   "nbconvert_exporter": "python",
   "pygments_lexer": "ipython3",
   "version": "3.11.7"
  }
 },
 "nbformat": 4,
 "nbformat_minor": 2
}
