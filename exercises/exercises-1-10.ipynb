{
 "cells": [
  {
   "cell_type": "code",
   "execution_count": null,
   "metadata": {},
   "outputs": [],
   "source": [
    "# 0.00_count_with_python\n",
    "# 1. pythagoras theorem\n",
    "# a)"
   ]
  },
  {
   "cell_type": "code",
   "execution_count": 1,
   "metadata": {},
   "outputs": [
    {
     "data": {
      "text/plain": [
       "5.0"
      ]
     },
     "execution_count": 1,
     "metadata": {},
     "output_type": "execute_result"
    }
   ],
   "source": [
    "a=3\n",
    "b=4\n",
    "c=(a**2+b**2)**0.5\n",
    "\n",
    "c"
   ]
  },
  {
   "cell_type": "markdown",
   "metadata": {},
   "source": [
    "## b)"
   ]
  },
  {
   "cell_type": "code",
   "execution_count": 8,
   "metadata": {},
   "outputs": [
    {
     "data": {
      "text/plain": [
       "4.9"
      ]
     },
     "execution_count": 8,
     "metadata": {},
     "output_type": "execute_result"
    }
   ],
   "source": [
    "c=7\n",
    "a=5\n",
    "b=round((c**2-a**2)**0.5, 1)\n",
    "\n",
    "b"
   ]
  },
  {
   "cell_type": "markdown",
   "metadata": {},
   "source": [
    "## 2. Classification accuracy"
   ]
  },
  {
   "cell_type": "code",
   "execution_count": 9,
   "metadata": {},
   "outputs": [
    {
     "data": {
      "text/plain": [
       "0.821917808219178"
      ]
     },
     "execution_count": 9,
     "metadata": {},
     "output_type": "execute_result"
    }
   ],
   "source": [
    "totals=365\n",
    "corr= 300\n",
    "ac= corr/totals\n",
    "\n",
    "ac"
   ]
  },
  {
   "cell_type": "markdown",
   "metadata": {},
   "source": [
    "## 3. Classification accuracy"
   ]
  },
  {
   "cell_type": "code",
   "execution_count": 10,
   "metadata": {},
   "outputs": [
    {
     "data": {
      "text/plain": [
       "0.987"
      ]
     },
     "execution_count": 10,
     "metadata": {},
     "output_type": "execute_result"
    }
   ],
   "source": [
    "tp=2\n",
    "fp=2\n",
    "fn=11\n",
    "tn=985\n",
    "\n",
    "ac=(tp+tn)/(tp+fp+fn+tn)\n",
    "\n",
    "ac"
   ]
  },
  {
   "cell_type": "markdown",
   "metadata": {},
   "source": [
    "## 4. Line (*)"
   ]
  },
  {
   "cell_type": "code",
   "execution_count": 11,
   "metadata": {},
   "outputs": [
    {
     "data": {
      "text/plain": [
       "0.75"
      ]
     },
     "execution_count": 11,
     "metadata": {},
     "output_type": "execute_result"
    }
   ],
   "source": [
    "x1=4\n",
    "y1=4\n",
    "\n",
    "x2=0\n",
    "y2=1\n",
    "\n",
    "k=(y1-y2)/(x1-x2)\n",
    "\n",
    "k"
   ]
  },
  {
   "cell_type": "markdown",
   "metadata": {},
   "source": []
  },
  {
   "cell_type": "markdown",
   "metadata": {},
   "source": [
    "## 5. Euclidean distance"
   ]
  },
  {
   "cell_type": "code",
   "execution_count": 12,
   "metadata": {},
   "outputs": [
    {
     "data": {
      "text/plain": [
       "5.0990195135927845"
      ]
     },
     "execution_count": 12,
     "metadata": {},
     "output_type": "execute_result"
    }
   ],
   "source": [
    "p1=[3,5]\n",
    "p2=[-2,4]\n",
    "\n",
    "ecl=((p1[0]-p2[0])**2+(p1[1]-p2[1])**2)**0.5\n",
    "\n",
    "ecl"
   ]
  },
  {
   "cell_type": "markdown",
   "metadata": {},
   "source": [
    "## Euclidean distance in 3D"
   ]
  },
  {
   "cell_type": "code",
   "execution_count": 13,
   "metadata": {},
   "outputs": [
    {
     "data": {
      "text/plain": [
       "4.123105625617661"
      ]
     },
     "execution_count": 13,
     "metadata": {},
     "output_type": "execute_result"
    }
   ],
   "source": [
    "p1=[2, 1, 4]\n",
    "p2=[3, 1, 0]\n",
    "\n",
    "eucl=((p1[0]-p2[0])**2+(p1[1]-p2[1])**2+(p1[2]-p2[2])**2)**0.5\n",
    "\n",
    "eucl"
   ]
  },
  {
   "cell_type": "markdown",
   "metadata": {},
   "source": [
    "# 0.01 if statements\n",
    "## 0. Check sign"
   ]
  },
  {
   "cell_type": "code",
   "execution_count": 16,
   "metadata": {},
   "outputs": [
    {
     "name": "stdout",
     "output_type": "stream",
     "text": [
      "Negative\n"
     ]
    }
   ],
   "source": [
    "ans=float(input(\"State a number\"))\n",
    "\n",
    "if (ans>=0.00000):\n",
    "    print(\"Positive\")\n",
    "else:\n",
    "    print(\"Negative\")"
   ]
  },
  {
   "cell_type": "markdown",
   "metadata": {},
   "source": [
    "## 1. Smallest"
   ]
  },
  {
   "cell_type": "code",
   "execution_count": 19,
   "metadata": {},
   "outputs": [
    {
     "name": "stdout",
     "output_type": "stream",
     "text": [
      "First number is smallest 11.4\n"
     ]
    }
   ],
   "source": [
    "ans1=float(input(\"State first number\"))\n",
    "ans2=float(input(\"State second number\"))\n",
    "\n",
    "if (ans1<ans2):\n",
    "    print(f\"First number is smallest {ans1}\")\n",
    "else:\n",
    "    print(f\"Second number is smallest {ans2}\")"
   ]
  },
  {
   "cell_type": "markdown",
   "metadata": {},
   "source": [
    "## 2. Right angle"
   ]
  },
  {
   "cell_type": "code",
   "execution_count": 29,
   "metadata": {},
   "outputs": [
    {
     "name": "stdout",
     "output_type": "stream",
     "text": [
      "Jepp, this has right angle\n",
      "[90.0, 45.0, 45.0]\n"
     ]
    }
   ],
   "source": [
    "ans=[]\n",
    "\n",
    "ans.append(float(input(\"State first angle\")))\n",
    "ans.append(float(input(\"State second angle\")))\n",
    "ans.append(float(input(\"State second angle\")))\n",
    "\n",
    "if (sum(ans)!=180):\n",
    "    print(f\"Something wring with the angles, sum is not 180, its {sum(ans)}\")\n",
    "else:\n",
    "        if 90 in ans:\n",
    "            print(\"Jepp, this has right angle\")\n",
    "\n",
    "print(f\"{ans}\")"
   ]
  },
  {
   "cell_type": "markdown",
   "metadata": {},
   "source": []
  },
  {
   "cell_type": "markdown",
   "metadata": {},
   "source": [
    "## 3. Medicine"
   ]
  },
  {
   "cell_type": "code",
   "execution_count": 31,
   "metadata": {},
   "outputs": [],
   "source": [
    "weight=int(input(\"State weight:\"))\n",
    "age=int(input(\"State age:\"))\n",
    "\n",
    "if weight>15 and weight<26:\n",
    "    print(\"Take 1/2 pill\")\n",
    "elif weight>25 and weight<40:\n",
    "    print(\"Take 1/2 -1 pill\")\n",
    "elif weight>40:\n",
    "    print(\"Take 1-2 pills\")\n",
    "\n"
   ]
  },
  {
   "cell_type": "markdown",
   "metadata": {},
   "source": [
    "## 4. Divisible"
   ]
  },
  {
   "cell_type": "code",
   "execution_count": 35,
   "metadata": {},
   "outputs": [
    {
     "name": "stdout",
     "output_type": "stream",
     "text": [
      "The number is even\n"
     ]
    }
   ],
   "source": [
    "number=int(input(\"State a number:\"))\n",
    "\n",
    "if (number % 2 ==0) and (number % 5 == 0):\n",
    "    print(\"The number is divisible by 2 and 5\")\n",
    "elif (number % 2 == 0):\n",
    "    print(\"The number is even\")\n",
    "elif (number % 5 ==0):\n",
    "    print(\"The number is divisible by 5\")\n",
    "else: \n",
    "    print(\"The number is odd\")\n",
    "\n",
    "\n",
    "\n"
   ]
  },
  {
   "cell_type": "code",
   "execution_count": null,
   "metadata": {},
   "outputs": [],
   "source": []
  }
 ],
 "metadata": {
  "kernelspec": {
   "display_name": "venv",
   "language": "python",
   "name": "python3"
  },
  "language_info": {
   "codemirror_mode": {
    "name": "ipython",
    "version": 3
   },
   "file_extension": ".py",
   "mimetype": "text/x-python",
   "name": "python",
   "nbconvert_exporter": "python",
   "pygments_lexer": "ipython3",
   "version": "3.11.7"
  }
 },
 "nbformat": 4,
 "nbformat_minor": 2
}
