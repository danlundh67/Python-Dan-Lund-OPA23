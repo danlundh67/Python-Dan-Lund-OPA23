{
 "cells": [
  {
   "cell_type": "markdown",
   "metadata": {},
   "source": [
    "## Filehandling\n"
   ]
  },
  {
   "cell_type": "markdown",
   "metadata": {},
   "source": [
    "### 0. Dice rolls (*)\n",
    "Create a textfile called dice_rolls.txt using Python. Also for each subtask, write adequate headers.\n",
    "\n",
    "- Simulate 20 dice rolls and write them to your textfile. (*)\n",
    "\n",
    "- Sort the dice rolls and write them to a separate row in the same textfile. (*)\n",
    "\n",
    "- Count the number of fours in the dice rolls and write them to a separate row in the same textfile. (*)"
   ]
  },
  {
   "cell_type": "code",
   "execution_count": 5,
   "metadata": {},
   "outputs": [
    {
     "data": {
      "text/plain": [
       "([1, 1, 2, 2, 3, 4, 4, 4, 4, 4, 4, 4, 5, 5, 5, 6, 6, 6, 6, 6], 7)"
      ]
     },
     "execution_count": 5,
     "metadata": {},
     "output_type": "execute_result"
    }
   ],
   "source": [
    "import numpy as np\n",
    "\n",
    "text_path = \"../data/dice_rolls.txt\"\n",
    "\n",
    "n=20\n",
    "\n",
    "series=random_matrix=np.random.randint(1,7, size=(n))\n",
    "\n",
    "series\n",
    "\n",
    "sort1=sorted(series)\n",
    "\n",
    "s2=sort1.count(4)\n",
    "\n",
    "file1 = open(text_path, 'w')\n",
    "file1.writelines(series)\n",
    "file1.writelines(sorted(series))\n",
    "file1.writelines(series.count(4))\n",
    "\n",
    "# file1.close()\n",
    "\n"
   ]
  },
  {
   "cell_type": "code",
   "execution_count": null,
   "metadata": {},
   "outputs": [],
   "source": []
  }
 ],
 "metadata": {
  "kernelspec": {
   "display_name": "venv",
   "language": "python",
   "name": "python3"
  },
  "language_info": {
   "codemirror_mode": {
    "name": "ipython",
    "version": 3
   },
   "file_extension": ".py",
   "mimetype": "text/x-python",
   "name": "python",
   "nbconvert_exporter": "python",
   "pygments_lexer": "ipython3",
   "version": "3.11.7"
  }
 },
 "nbformat": 4,
 "nbformat_minor": 2
}
