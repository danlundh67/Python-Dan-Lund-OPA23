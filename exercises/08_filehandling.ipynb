{
 "cells": [
  {
   "cell_type": "markdown",
   "metadata": {},
   "source": [
    "## Filehandling\n"
   ]
  },
  {
   "cell_type": "markdown",
   "metadata": {},
   "source": [
    "### 0. Dice rolls (*)\n",
    "Create a textfile called dice_rolls.txt using Python. Also for each subtask, write adequate headers.\n",
    "\n",
    "- Simulate 20 dice rolls and write them to your textfile. (*)\n",
    "\n",
    "- Sort the dice rolls and write them to a separate row in the same textfile. (*)\n",
    "\n",
    "- Count the number of fours in the dice rolls and write them to a separate row in the same textfile. (*)"
   ]
  },
  {
   "cell_type": "code",
   "execution_count": 10,
   "metadata": {},
   "outputs": [],
   "source": [
    "import numpy as np\n",
    "\n",
    "text_path = \"../data/dice_rolls.txt\"\n",
    "\n",
    "n=20\n",
    "\n",
    "series=random_matrix=np.random.randint(1,7, size=(n))\n",
    "\n",
    "\n",
    "s2=sort1.count(4)\n",
    "\n",
    "file1 = open(text_path, 'w')\n",
    "file1.writelines(f\"{series}\\n\")\n",
    "file1.writelines(f\"{sorted(series)}\\n\")\n",
    "file1.writelines(f\"{s2}\")\n",
    "\n",
    "file1.close()\n",
    "\n"
   ]
  },
  {
   "cell_type": "markdown",
   "metadata": {},
   "source": [
    "## Read in the file test_result.txt (located in the data folder of this repo) in Python.\n",
    "\n",
    " - a)   Print out the text in the terminal (*)\n",
    "\n",
    " - b)   Create new rows in the same file and write the people and their corresponding scores in alphabetical order. (*)\n",
    "\n",
    " - c)   Create additional rows in the same file and sort the people after their grades. The grade limits are: (**)\n",
    "\n",
    "Grade\tRange<br>\n",
    "F\t< 20<br>\n",
    "E\t20-29 <br>\n",
    "D\t30-39 <br>\n",
    "C\t40-49 <br>\n",
    "B\t50-59 <br>\n",
    "A\t60-70 <br>"
   ]
  },
  {
   "cell_type": "code",
   "execution_count": 7,
   "metadata": {},
   "outputs": [
    {
     "name": "stdout",
     "output_type": "stream",
     "text": [
      "Adam Gustafsson 25\n",
      "Emil Johansson 23\n",
      "Sven Erik Karlsson 13\n",
      "Ove Karlsten 41\n",
      "Emma Boden 32\n",
      "Ida HÃ¥kansson 23\n",
      "Ella Ester 41\n",
      "Hanna Karlsson 23\n",
      "Johan Johansson 42\n",
      "Sven Erik Lundin 39\n",
      "BjÃ¶rn BjÃ¶rnsson 39\n",
      "Karl Karlsson 32\n",
      "Bose Bosseson 32\n",
      "HÃ¥kan HÃ¥kanson 24\n",
      "Jonas Jonasson 31\n",
      "Erik Eriksson 31\n",
      "Gore Bord 55\n",
      "Jakob Kallander 65\n",
      "Fredrika Ulven 10\n",
      "------------------ Grades -----------------\n",
      " Gore Bord 55 B\n",
      " Ella Ester 41 C\n",
      " Johan Johansson 42 C\n",
      " Ove Karlsten 41 C\n",
      " BjÃ¶rn BjÃ¶rnsson 39 D\n",
      " Bose Bosseson 32 D\n",
      " Emma Boden 32 D\n",
      " Erik Eriksson 31 D\n",
      " Jonas Jonasson 31 D\n",
      " Karl Karlsson 32 D\n",
      " Sven Erik Lundin 39 D\n",
      " Adam Gustafsson 25 E\n",
      " Emil Johansson 23 E\n",
      " Hanna Karlsson 23 E\n",
      " HÃ¥kan HÃ¥kanson 24 E\n",
      " Ida HÃ¥kansson 23 E\n",
      " Jakob Kallander 65 E\n",
      " Fredrika Ulven 10 F\n",
      " Sven Erik Karlsson 13 F\n"
     ]
    }
   ],
   "source": [
    "import numpy as np\n",
    "\n",
    "text_path = \"../data/test_result.txt\"\n",
    "\n",
    "file1 = open(text_path, 'r')\n",
    "data=[]\n",
    "while True:\n",
    "    row=file1.readline().strip()\n",
    "    if not row:\n",
    "        break\n",
    "    data.append(row)\n",
    "    print(f\"{row}\")\n",
    "    \n",
    "file1.close()\n",
    "\n",
    "sort1=sorted(data)\n",
    "\n",
    "# file1 = open(text_path, 'a')\n",
    "# file1.writelines(\"\\n---------------- Sorted ----------------\\n\")\n",
    "# for x in sort1:\n",
    "#     file1.writelines(f\"{x}\\n\")\n",
    "# file1.writelines(\"\\n\")\n",
    "\n",
    "# file1.close()\n",
    "\n",
    "print(\"------------------ Grades -----------------\")\n",
    "mylist=[]\n",
    "for x in sort1:\n",
    "    z=x.split(' ')\n",
    "    if int(z[-1]) < 20:\n",
    "        x = x + \" F\"\n",
    "    elif (int(z[-1])>=20 and int(z[-1])<=29):\n",
    "        x = x +\" E\"\n",
    "    elif (int(z[-1])>=30 and int(z[-1])<=39):\n",
    "        x = x +\" D\"\n",
    "    elif (int(z[-1])>=40 and int(z[-1])<=49):\n",
    "        x = x +\" C\"\n",
    "    elif (int(z[-1])>=50 and int(z[-1])<=59):\n",
    "        x = x +\" B\"\n",
    "    elif (int(z[-1])>=60 and int(z[-1])<=70):\n",
    "        x = x +\" E\"\n",
    "\n",
    "    mylist.append(x.split())\n",
    "\n",
    "\n",
    "new_list = sorted(mylist, key=lambda x: x[-1])\n",
    "\n",
    "for x in new_list:\n",
    "    out= \" \".join(x)\n",
    "    print(f\" {out}\")\n"
   ]
  },
  {
   "cell_type": "markdown",
   "metadata": {},
   "source": [
    "## 2. National test (*)\n",
    "Read in the file NPvt19Ma2A.txt and NPvt19Ma2C.txt (located in the data folder of this repo) \n",
    "in Python. Use matplotlib to plot pie charts for each grade categories in each file."
   ]
  },
  {
   "cell_type": "code",
   "execution_count": 26,
   "metadata": {},
   "outputs": [
    {
     "data": {
      "text/plain": [
       "([<matplotlib.patches.Wedge at 0x2a3a088ee90>,\n",
       "  <matplotlib.patches.Wedge at 0x2a3a089e210>,\n",
       "  <matplotlib.patches.Wedge at 0x2a3a089f450>,\n",
       "  <matplotlib.patches.Wedge at 0x2a3a08ac850>,\n",
       "  <matplotlib.patches.Wedge at 0x2a3a08adad0>,\n",
       "  <matplotlib.patches.Wedge at 0x2a3a08aef50>],\n",
       " [Text(1.0619197970214505, 0.28692567799679736, 'A'),\n",
       "  Text(0.6182916662326184, 0.9097886652774326, 'B'),\n",
       "  Text(-0.7038257477845727, 0.8453575082504958, 'C'),\n",
       "  Text(-0.9705201984102415, -0.5177746077954632, 'D'),\n",
       "  Text(0.12070819056968034, -1.0933570015001477, 'E'),\n",
       "  Text(1.0149402295675634, -0.42414187532633674, 'F')])"
      ]
     },
     "execution_count": 26,
     "metadata": {},
     "output_type": "execute_result"
    },
    {
     "data": {
      "image/png": "[encoded data removed]",
      "text/plain": [
       "<Figure size 640x480 with 1 Axes>"
      ]
     },
     "metadata": {},
     "output_type": "display_data"
    },
    {
     "data": {
      "text/plain": [
       "<Figure size 640x480 with 0 Axes>"
      ]
     },
     "metadata": {},
     "output_type": "display_data"
    },
    {
     "data": {
      "image/png": "[encoded data removed]",
      "text/plain": [
       "<Figure size 640x480 with 1 Axes>"
      ]
     },
     "metadata": {},
     "output_type": "display_data"
    }
   ],
   "source": [
    "import numpy as np\n",
    "import matplotlib.pyplot as plt\n",
    "\n",
    "text_path1 = \"../data/NPvt19Ma2A.txt\"\n",
    "text_path2 = \"../data/NPvt19Ma2C.txt\"\n",
    "\n",
    "def readfile(thepath):\n",
    "    file = open(thepath, 'r')\n",
    "    data=[]\n",
    "    while True:\n",
    "        row=file.readline().strip()\n",
    "        if not row:\n",
    "            break\n",
    "        data.append(row.split())\n",
    "    file.close()\n",
    "    scale=[]\n",
    "    grades=[]\n",
    "    for x in data:\n",
    "        scale.append(x[0])\n",
    "        grades.append(float(x[1].strip(\"%\")))\n",
    "\n",
    "    return [scale,grades]\n",
    "\n",
    "\n",
    "data1=readfile(text_path1)\n",
    "data2=readfile(text_path2)\n",
    "\n",
    "\n",
    "fig, ax = plt.subplots()\n",
    "ax.pie(data1[1], labels=data1[0])\n",
    "plt.figure()\n",
    "fig1, ax1 = plt.subplots()\n",
    "ax1.pie(data2[1], labels=data2[0])\n"
   ]
  },
  {
   "cell_type": "markdown",
   "metadata": {},
   "source": []
  },
  {
   "cell_type": "code",
   "execution_count": 19,
   "metadata": {},
   "outputs": [
    {
     "data": {
      "text/plain": [
       "6"
      ]
     },
     "execution_count": 19,
     "metadata": {},
     "output_type": "execute_result"
    }
   ],
   "source": [
    "len(data1)"
   ]
  },
  {
   "cell_type": "code",
   "execution_count": null,
   "metadata": {},
   "outputs": [],
   "source": []
  }
 ],
 "metadata": {
  "kernelspec": {
   "display_name": "venv",
   "language": "python",
   "name": "python3"
  },
  "language_info": {
   "codemirror_mode": {
    "name": "ipython",
    "version": 3
   },
   "file_extension": ".py",
   "mimetype": "text/x-python",
   "name": "python",
   "nbconvert_exporter": "python",
   "pygments_lexer": "ipython3",
   "version": "3.11.7"
  }
 },
 "nbformat": 4,
 "nbformat_minor": 2
}
