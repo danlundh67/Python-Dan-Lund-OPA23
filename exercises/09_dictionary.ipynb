{
 "cells": [
  {
   "cell_type": "markdown",
   "metadata": {},
   "source": [
    "## 0. Curriculum (*)\n",
    "Create a dictionary containing all the courses that you will study in this program, with the course names as keys and the amount of points as value. Then calculate the number of points that you will study in total. (*)"
   ]
  },
  {
   "cell_type": "code",
   "execution_count": 14,
   "metadata": {},
   "outputs": [
    {
     "name": "stdout",
     "output_type": "stream",
     "text": [
      "Introduktion till objektorientering 15\n",
      "OOP grund 50\n",
      "Agil Projektledning 15\n",
      "Databaser 30\n",
      "Artificial intelligence 1 - Python 30\n",
      "Artificial intelligence 2 60\n",
      "Objektorienterad programmering avancerad 1 40\n",
      "Lärande i arbete 1 45\n",
      "Objektsorienterad Programmering Avancerad 2(2) 30\n",
      "Examensarbete 15\n",
      "Lärande i arbete 2 70\n",
      "Totally 400 points\n"
     ]
    }
   ],
   "source": [
    "courses={\"Introduktion till objektorientering\":15,\n",
    "         \"OOP grund\": 50,\n",
    "         \"Agil Projektledning\": 15,\n",
    "         \"Databaser\": 30,\n",
    "         \"Artificial intelligence 1 - Python\": 30,\n",
    "         \"Artificial intelligence 2\": 60,\n",
    "         \"Objektorienterad programmering avancerad 1\": 40,\n",
    "         \"Lärande i arbete 1\": 45,\n",
    "         \"Objektsorienterad Programmering Avancerad 2(2)\":30,\n",
    "         \"Examensarbete\": 15,\n",
    "         \"Lärande i arbete 2\": 70}\t\n",
    "sum=0\n",
    "for key, value in courses.items():\n",
    "    sum += value\n",
    "    print(f\"{key:} {value}\")\n",
    "\n",
    "print(f\"Totally {sum} points\")"
   ]
  },
  {
   "cell_type": "markdown",
   "metadata": {},
   "source": [
    "## 1. Dice simulation (*)\n",
    "Simulate 1000000 dice rolls and save the number of ones, twos, ..., sixes in a dictionary. Then print them out in the terminal. (*)"
   ]
  },
  {
   "cell_type": "code",
   "execution_count": 29,
   "metadata": {},
   "outputs": [
    {
     "name": "stdout",
     "output_type": "stream",
     "text": [
      "1s : 166783,  \n",
      "2s : 166649,  \n",
      "3s : 166407,  \n",
      "4s : 166216,  \n",
      "5s : 167314,  \n",
      "6s : 166631,  \n"
     ]
    }
   ],
   "source": [
    "import numpy as np\n",
    "\n",
    "\n",
    "a=6\n",
    " \n",
    "series=random_matrix=np.random.randint(1,7, size=(10**a))\n",
    "\n",
    "dicecount={}\n",
    "for i in range(1,7):\n",
    "    dicecount[f\"{i}\"]=0\n",
    "\n",
    "\n",
    "for i in range(1,7):\n",
    "    dicecount[f\"{i}\"]=list(series).count(i)\n",
    "\n",
    "for key, value in dicecount.items():\n",
    "    print(f\"{key}s : {value},  \")\n",
    "\n"
   ]
  },
  {
   "cell_type": "markdown",
   "metadata": {},
   "source": [
    "## 3. Pokemon list (*)\n",
    "Read in the file pokemon_list.txt in Python. Create a variable with name pokedex with the key:value \"pokemon\":\"type, index\". For example when searching for the keys \"Gengar\" and \"Pikachu\": (*)\n",
    "\n",
    "print(pokedex[\"Gengar\"])\n",
    "print(pokedex[\"Pikachu\"])\n",
    "\n",
    "Spöke/Gift, 94\n",
    "Elektrisk, 25"
   ]
  },
  {
   "cell_type": "code",
   "execution_count": 34,
   "metadata": {},
   "outputs": [
    {
     "name": "stdout",
     "output_type": "stream",
     "text": [
      "Bulbasaur : GrÃ¤s/Gift, 1,  \n",
      "Ivysaur : GrÃ¤s/Gift, 2,  \n",
      "Venusaur : GrÃ¤s/Gift, 3,  \n",
      "Charmander : Eld, 4,  \n",
      "Charmeleon : Eld, 5,  \n",
      "Charizard : Eld/Flygande, 6,  \n",
      "Squirtle : Vatten, 7,  \n",
      "Wartortle : Vatten, 8,  \n",
      "Blastoise : Vatten, 9,  \n",
      "Caterpie : Insekt, 10,  \n",
      "Metapod : Insekt, 11,  \n",
      "Butterfree : Insekt/Flygande, 12,  \n",
      "Weedle : Insekt/Gift, 13,  \n",
      "Kakuna : Insekt/Gift, 14,  \n",
      "Beedrill : Insekt/Gift, 15,  \n",
      "Pidgey : Normal/Flygande, 16,  \n",
      "Pidgeotto : Normal/Flygande, 17,  \n",
      "Pidgeot : Normal/Flygande, 18,  \n",
      "Rattata : Normal, 19,  \n",
      "Raticate : Normal, 20,  \n",
      "Spearow : Normal/Flygande, 21,  \n",
      "Fearow : Normal/Flygande, 22,  \n",
      "Ekans : Gift, 23,  \n",
      "Arbok : Gift, 24,  \n",
      "Pikachu : Elektrisk, 25,  \n",
      "Raichu : Elektrisk, 26,  \n",
      "Sandshrew : Mark, 27,  \n",
      "Sandslash : Mark, 28,  \n",
      "Nidoranâ™€ : Gift, 29,  \n",
      "Nidorina : Gift, 30,  \n",
      "Nidoqueen : Gift/Mark, 31,  \n",
      "Nidoranâ™‚ : Gift, 32,  \n",
      "Nidorino : Gift, 33,  \n",
      "Nidoking : Gift/Mark, 34,  \n",
      "Clefairy : FÃ©, 35,  \n",
      "Clefable : FÃ©, 36,  \n",
      "Vulpix : Eld, 37,  \n",
      "Ninetales : Eld, 38,  \n",
      "Jigglypuff : Normal/FÃ©, 39,  \n",
      "Wigglytuff : Normal/FÃ©, 40,  \n",
      "Zubat : Gift/Flygande, 41,  \n",
      "Golbat : Gift/Flygande, 42,  \n",
      "Oddish : GrÃ¤s/Gift, 43,  \n",
      "Gloom : GrÃ¤s/Gift, 44,  \n",
      "Vileplume : GrÃ¤s/Gift, 45,  \n",
      "Paras : Insekt/GrÃ¤s, 46,  \n",
      "Parasect : Insekt/GrÃ¤s, 47,  \n",
      "Venonat : Insekt/Gift, 48,  \n",
      "Venomoth : Insekt/Gift, 49,  \n",
      "Diglett : Mark, 50,  \n",
      "Dugtrio : Mark, 51,  \n",
      "Meowth : Normal, 52,  \n",
      "Persian : Normal, 53,  \n",
      "Psyduck : Vatten, 54,  \n",
      "Golduck : Vatten, 55,  \n",
      "Mankey : Kamp, 56,  \n",
      "Primeape : Kamp, 57,  \n",
      "Growlithe : Eld, 58,  \n",
      "Arcanine : Eld, 59,  \n",
      "Poliwag : Vatten, 60,  \n",
      "Poliwhirl : Vatten, 61,  \n",
      "Poliwrath : Vatten/Kamp, 62,  \n",
      "Abra : Psykisk, 63,  \n",
      "Kadabra : Psykisk, 64,  \n",
      "Alakazam : Psykisk, 65,  \n",
      "Machop : Kamp, 66,  \n",
      "Machoke : Kamp, 67,  \n",
      "Machamp : Kamp, 68,  \n",
      "Bellsprout : GrÃ¤s/Gift, 69,  \n",
      "Weepinbell : GrÃ¤s/Gift, 70,  \n",
      "Victreebel : GrÃ¤s/Gift, 71,  \n",
      "Tentacool : Vatten/Gift, 72,  \n",
      "Tentacruel : Vatten/Gift, 73,  \n",
      "Geodude : Sten/Mark, 74,  \n",
      "Graveler : Sten/Mark, 75,  \n",
      "Golem : Sten/Mark, 76,  \n",
      "Ponyta : Eld, 77,  \n",
      "Rapidash : Eld, 78,  \n",
      "Slowpoke : Vatten/Psykisk, 79,  \n",
      "Slowbro : Vatten/Psykisk, 80,  \n",
      "Magnemite : Elektrisk/StÃ¥l, 81,  \n",
      "Magneton : Elektrisk/StÃ¥l, 82,  \n",
      "Farfetch'd : Normal/Flygande, 83,  \n",
      "Doduo : Normal/Flygande, 84,  \n",
      "Dodrio : Normal/Flygande, 85,  \n",
      "Seel : Vatten, 86,  \n",
      "Dewgong : Vatten/Is, 87,  \n",
      "Grimer : Gift, 88,  \n",
      "Muk : Gift, 89,  \n",
      "Shellder : Vatten, 90,  \n",
      "Cloyster : Vatten/Is, 91,  \n",
      "Gastly : SpÃ¶ke/Gift, 92,  \n",
      "Haunter : SpÃ¶ke/Gift, 93,  \n",
      "Gengar : SpÃ¶ke/Gift, 94,  \n",
      "Onix : Sten/Mark, 95,  \n",
      "Drowzee : Psykisk, 96,  \n",
      "Hypno : Psykisk, 97,  \n",
      "Krabby : Vatten, 98,  \n",
      "Kingler : Vatten, 99,  \n",
      "Voltorb : Elektrisk, 100,  \n",
      "Electrode : Elektrisk, 101,  \n",
      "Exeggcute : GrÃ¤s/Psykisk, 102,  \n",
      "Exeggutor : GrÃ¤s/Psykisk, 103,  \n",
      "Cubone : Mark, 104,  \n",
      "Marowak : Mark, 105,  \n",
      "Hitmonlee : Kamp, 106,  \n",
      "Hitmonchan : Kamp, 107,  \n",
      "Lickitung : Normal, 108,  \n",
      "Koffing : Gift, 109,  \n",
      "Weezing : Gift, 110,  \n",
      "Rhyhorn : Mark/Sten, 111,  \n",
      "Rhydon : Mark/Sten, 112,  \n",
      "Chansey : Normal, 113,  \n",
      "Tangela : GrÃ¤s, 114,  \n",
      "Kangaskhan : Normal, 115,  \n",
      "Horsea : Vatten, 116,  \n",
      "Seadra : Vatten, 117,  \n",
      "Goldeen : Vatten, 118,  \n",
      "Seaking : Vatten, 119,  \n",
      "Staryu : Vatten, 120,  \n",
      "Starmie : Vatten/Psykisk, 121,  \n",
      "Mr.Mime : Psykisk, 122,  \n",
      "Scyther : Insekt/Flygande, 123,  \n",
      "Jynx : Is/Psykisk, 124,  \n",
      "Electabuzz : Elektrisk, 125,  \n",
      "Magmar : Eld, 126,  \n",
      "Pinsir : Insekt, 127,  \n",
      "Tauros : Normal, 128,  \n",
      "Magikarp : Vatten, 129,  \n",
      "Gyarados : Vatten/Flygande, 130,  \n",
      "Lapras : Vatten/Is, 131,  \n",
      "Ditto : Normal, 132,  \n",
      "Eevee : Normal, 133,  \n",
      "Vaporeon : Vatten, 134,  \n",
      "Jolteon : Elektrisk, 135,  \n",
      "Flareon : Eld, 136,  \n",
      "Porygon : Normal, 137,  \n",
      "Omanyte : Sten/Vatten, 138,  \n",
      "Omastar : Sten/Vatten, 139,  \n",
      "Kabuto : Sten/Vatten, 140,  \n",
      "Kabutops : Sten/Vatten, 141,  \n",
      "Aerodactyl : Sten/Flygande, 142,  \n",
      "Snorlax : Normal, 143,  \n",
      "Articuno : Is/Flygande, 144,  \n",
      "Zapdos : Elektrisk/Flygande, 145,  \n",
      "Moltres : Eld/Flygande, 146,  \n",
      "Dratini : Drake, 147,  \n",
      "Dragonair : Drake, 148,  \n",
      "Dragonite : Drake/Flygande, 149,  \n",
      "Mewtwo : Psykisk, 150,  \n"
     ]
    }
   ],
   "source": [
    "import numpy as np\n",
    "\n",
    "text_path = \"../data/pokemon_list.txt\"\n",
    "\n",
    "file1 = open(text_path, 'r')\n",
    "pokedex={}\n",
    "while True:\n",
    "    row=file1.readline().strip()\n",
    "    if not row:\n",
    "        break\n",
    "    rowelements=row.split()\n",
    "    myfeature=rowelements[-1]\n",
    "    myindex=rowelements[0]\n",
    "    myname=\"\".join(rowelements[1:len(rowelements)-1])\n",
    "    \n",
    "    pokedex[myname]=f\"{myfeature}, {myindex}\"\n",
    "    #print(f\"{row}\")\n",
    "    \n",
    "file1.close()\n",
    "\n",
    "for key, value in pokedex.items():\n",
    "    print(f\"{key} : {value}  \")\n",
    "\n",
    "#sort1=sorted(data)\n"
   ]
  },
  {
   "cell_type": "markdown",
   "metadata": {},
   "source": [
    "## Read in the file morse.txt, \n",
    "save it in a dictionary and create a function that lets the user input a message to get it translated to morse code. For example (**)\n",
    "\n",
    "print(morse(\"SOS\"))\n",
    "print(morse(\"POKEMON\"))\n",
    "...---...\n",
    ".------.-.------."
   ]
  },
  {
   "cell_type": "code",
   "execution_count": 45,
   "metadata": {},
   "outputs": [
    {
     "name": "stdout",
     "output_type": "stream",
     "text": [
      " ... --- ...\n",
      " .-- --- -.- . -- --- -.\n"
     ]
    }
   ],
   "source": [
    "import numpy as np\n",
    "\n",
    "text_path = \"../data/morse.txt\"\n",
    "\n",
    "def parsemorse(instring):\n",
    "    arr1=[morse[x] for x in instring]\n",
    "    return \"\".join(arr1)\n",
    "\n",
    "\n",
    "\n",
    "file1 = open(text_path, 'r')\n",
    "morse={}\n",
    "while True:\n",
    "    row=file1.readline().strip()\n",
    "    if not row:\n",
    "        break\n",
    "    rowelements=row.split(':')\n",
    "    \n",
    "    morse[rowelements[0]]=f\"{rowelements[1]}\"\n",
    "    #print(f\"{rowelements}\")  \n",
    "file1.close()\n",
    "\n",
    "print(parsemorse(\"SOS\"))\n",
    "print(parsemorse(\"POKEMON\"))"
   ]
  },
  {
   "cell_type": "code",
   "execution_count": 40,
   "metadata": {},
   "outputs": [
    {
     "data": {
      "text/plain": [
       "' .-'"
      ]
     },
     "execution_count": 40,
     "metadata": {},
     "output_type": "execute_result"
    }
   ],
   "source": [
    "morse[\"A\"]\n"
   ]
  },
  {
   "cell_type": "code",
   "execution_count": null,
   "metadata": {},
   "outputs": [],
   "source": []
  }
 ],
 "metadata": {
  "kernelspec": {
   "display_name": "venv",
   "language": "python",
   "name": "python3"
  },
  "language_info": {
   "codemirror_mode": {
    "name": "ipython",
    "version": 3
   },
   "file_extension": ".py",
   "mimetype": "text/x-python",
   "name": "python",
   "nbconvert_exporter": "python",
   "pygments_lexer": "ipython3",
   "version": "3.11.7"
  }
 },
 "nbformat": 4,
 "nbformat_minor": 2
}
