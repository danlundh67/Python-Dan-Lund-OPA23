{
 "cells": [
  {
   "cell_type": "markdown",
   "metadata": {},
   "source": [
    "## 0. Curriculum (*)\n",
    "Create a dictionary containing all the courses that you will study in this program, with the course names as keys and the amount of points as value. Then calculate the number of points that you will study in total. (*)"
   ]
  },
  {
   "cell_type": "code",
   "execution_count": 14,
   "metadata": {},
   "outputs": [
    {
     "name": "stdout",
     "output_type": "stream",
     "text": [
      "Introduktion till objektorientering 15\n",
      "OOP grund 50\n",
      "Agil Projektledning 15\n",
      "Databaser 30\n",
      "Artificial intelligence 1 - Python 30\n",
      "Artificial intelligence 2 60\n",
      "Objektorienterad programmering avancerad 1 40\n",
      "Lärande i arbete 1 45\n",
      "Objektsorienterad Programmering Avancerad 2(2) 30\n",
      "Examensarbete 15\n",
      "Lärande i arbete 2 70\n",
      "Totally 400 points\n"
     ]
    }
   ],
   "source": [
    "courses={\"Introduktion till objektorientering\":15,\n",
    "         \"OOP grund\": 50,\n",
    "         \"Agil Projektledning\": 15,\n",
    "         \"Databaser\": 30,\n",
    "         \"Artificial intelligence 1 - Python\": 30,\n",
    "         \"Artificial intelligence 2\": 60,\n",
    "         \"Objektorienterad programmering avancerad 1\": 40,\n",
    "         \"Lärande i arbete 1\": 45,\n",
    "         \"Objektsorienterad Programmering Avancerad 2(2)\":30,\n",
    "         \"Examensarbete\": 15,\n",
    "         \"Lärande i arbete 2\": 70}\t\n",
    "sum=0\n",
    "for key, value in courses.items():\n",
    "    sum += value\n",
    "    print(f\"{key:} {value}\")\n",
    "\n",
    "print(f\"Totally {sum} points\")"
   ]
  },
  {
   "cell_type": "markdown",
   "metadata": {},
   "source": [
    "## 1. Dice simulation (*)\n",
    "Simulate 1000000 dice rolls and save the number of ones, twos, ..., sixes in a dictionary. Then print them out in the terminal. (*)"
   ]
  },
  {
   "cell_type": "code",
   "execution_count": 29,
   "metadata": {},
   "outputs": [
    {
     "name": "stdout",
     "output_type": "stream",
     "text": [
      "1s : 166783,  \n",
      "2s : 166649,  \n",
      "3s : 166407,  \n",
      "4s : 166216,  \n",
      "5s : 167314,  \n",
      "6s : 166631,  \n"
     ]
    }
   ],
   "source": [
    "import numpy as np\n",
    "\n",
    "\n",
    "a=6\n",
    " \n",
    "series=random_matrix=np.random.randint(1,7, size=(10**a))\n",
    "\n",
    "dicecount={}\n",
    "for i in range(1,7):\n",
    "    dicecount[f\"{i}\"]=0\n",
    "\n",
    "\n",
    "for i in range(1,7):\n",
    "    dicecount[f\"{i}\"]=list(series).count(i)\n",
    "\n",
    "for key, value in dicecount.items():\n",
    "    print(f\"{key}s : {value},  \")\n",
    "\n"
   ]
  },
  {
   "cell_type": "code",
   "execution_count": null,
   "metadata": {},
   "outputs": [],
   "source": []
  }
 ],
 "metadata": {
  "kernelspec": {
   "display_name": "venv",
   "language": "python",
   "name": "python3"
  },
  "language_info": {
   "codemirror_mode": {
    "name": "ipython",
    "version": 3
   },
   "file_extension": ".py",
   "mimetype": "text/x-python",
   "name": "python",
   "nbconvert_exporter": "python",
   "pygments_lexer": "ipython3",
   "version": "3.11.7"
  }
 },
 "nbformat": 4,
 "nbformat_minor": 2
}
